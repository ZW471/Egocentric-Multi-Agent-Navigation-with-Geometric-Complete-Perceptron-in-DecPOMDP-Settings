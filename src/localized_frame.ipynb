{
 "cells": [
  {
   "cell_type": "code",
   "id": "initial_id",
   "metadata": {
    "collapsed": true,
    "ExecuteTime": {
     "end_time": "2025-03-15T16:22:45.278805Z",
     "start_time": "2025-03-15T16:22:45.208542Z"
    }
   },
   "source": [
    "import torch\n",
    "import plotly.express as px\n",
    "import plotly.graph_objects as go\n",
    "import numpy as np\n",
    "\n",
    "def plot_all(goals, agents, velocity, rots, frame_idx=None, plot_frames=False):\n",
    "    if frame_idx is not None:\n",
    "        agents, goals, rots, velocity = localize_all_wrt_one_agent(agents, frame_idx, goals, rots, velocity)\n",
    "    # Convert tensors to numpy for easier handling in Plotly\n",
    "    goals_numpy = goals.numpy()\n",
    "    agents_numpy = agents.numpy()\n",
    "    velocity_numpy = velocity.numpy()\n",
    "    rots_numpy = rots.numpy()\n",
    "\n",
    "    # Initialize the figure\n",
    "    fig = go.Figure()\n",
    "\n",
    "    # Plot agents\n",
    "    fig.add_trace(go.Scatter(x=agents_numpy[:, 0], y=agents_numpy[:, 1],\n",
    "                             mode='markers', name='Agents',\n",
    "                             marker=dict(color='red', size=10)))\n",
    "\n",
    "    # Label each agent\n",
    "    for i in range(agents_numpy.shape[0]):\n",
    "        fig.add_trace(go.Scatter(\n",
    "            x=[agents_numpy[i, 0]],\n",
    "            y=[agents_numpy[i, 1]],\n",
    "            mode='text',\n",
    "            text=[f'A{i+1}'],\n",
    "            textposition='top center',\n",
    "            showlegend=False\n",
    "        ))\n",
    "\n",
    "    # Plot goals\n",
    "    fig.add_trace(go.Scatter(x=goals_numpy[:, 0], y=goals_numpy[:, 1],\n",
    "                             mode='markers', name='Goals',\n",
    "                             marker=dict(color='blue', size=10)))\n",
    "\n",
    "    # Plot velocity vectors and rotations\n",
    "    for i in range(velocity_numpy.shape[0]):\n",
    "        fig.add_trace(go.Scatter(\n",
    "            x=[agents_numpy[i, 0], agents_numpy[i, 0] + velocity_numpy[i, 0]],\n",
    "            y=[agents_numpy[i, 1], agents_numpy[i, 1] + velocity_numpy[i, 1]],\n",
    "            mode='lines+markers',\n",
    "            name=f'Velocity {i+1}',\n",
    "            line=dict(color='green')\n",
    "        ))\n",
    "\n",
    "        # Add rotation as arrow visualization\n",
    "        fig.add_trace(go.Scatter(\n",
    "            x=[agents_numpy[i, 0], agents_numpy[i, 0] + np.cos(rots_numpy[i, 0])],\n",
    "            y=[agents_numpy[i, 1], agents_numpy[i, 1] + np.sin(rots_numpy[i, 0])],\n",
    "            mode='lines+text',\n",
    "            textposition='top center',\n",
    "            text=['', f'{rots_numpy[i, 0] / (2 * np.pi):.2f}'],\n",
    "            name=f'Rotation {i+1}',\n",
    "            line=dict(color='purple', dash='dot')\n",
    "        ))\n",
    "\n",
    "\n",
    "        # Plot line from agent to its goal\n",
    "        fig.add_trace(go.Scatter(\n",
    "            x=[agents_numpy[i, 0], goals_numpy[i, 0]],\n",
    "            y=[agents_numpy[i, 1], goals_numpy[i, 1]],\n",
    "            mode='lines',\n",
    "            name=f'Agent to Goal {i+1}',\n",
    "            line=dict(color='orange', dash='dash')\n",
    "        ))\n",
    "\n",
    "        # Plot frames if option enabled\n",
    "        if plot_frames is not None:\n",
    "            frame = local_frame(rots)\n",
    "            for i in range(agents_numpy.shape[0]):\n",
    "                x_dir = frame[i, 0, 0].item()\n",
    "                y_dir = frame[i, 1, 0].item()\n",
    "                x_pos = agents_numpy[i, 0]\n",
    "                y_pos = agents_numpy[i, 1]\n",
    "\n",
    "                # Add frame directions\n",
    "                fig.add_trace(go.Scatter(\n",
    "                    x=[x_pos, x_pos + x_dir],\n",
    "                    y=[y_pos, y_pos + y_dir],\n",
    "                    mode='lines',\n",
    "                    name=f'Frame {i+1} X-direction',\n",
    "                    line=dict(color='cyan', dash='solid')\n",
    "                ))\n",
    "\n",
    "                x_dir = frame[i, 0, 1].item()\n",
    "                y_dir = frame[i, 1, 1].item()\n",
    "                fig.add_trace(go.Scatter(\n",
    "                    x=[x_pos, x_pos + x_dir],\n",
    "                    y=[y_pos, y_pos + y_dir],\n",
    "                    mode='lines',\n",
    "                    name=f'Frame {i+1} Y-direction',\n",
    "                    line=dict(color='magenta', dash='solid')\n",
    "                ))\n",
    "\n",
    "    # Set up plot layout\n",
    "    fig.update_layout(\n",
    "        title=\"Goals, Agents, Velocity, Rotations, Frames and Lines to Goals\",\n",
    "        xaxis_title=\"X\",\n",
    "        yaxis_title=\"Y\",\n",
    "        legend_title=\"Legend\",\n",
    "        showlegend=True,\n",
    "        xaxis=dict(scaleanchor=\"y\", scaleratio=1, range=[-3, 3]),  # Maintain equal x:y ratio, set range\n",
    "        yaxis=dict(range=[-3, 3])  # Set range\n",
    "    )\n",
    "\n",
    "    # Show the figure\n",
    "    fig.show()\n",
    "\n",
    "\n",
    "def localize_all_wrt_one_agent(agents, target_agent, goals, rots, velocity):\n",
    "    frame = local_frame(rots)[target_agent]\n",
    "    frame = torch.stack([frame] * agents.shape[0], dim=0)\n",
    "    center = agents[target_agent]\n",
    "    agents = localize(agents, frame, center=center)\n",
    "    velocity = localize(velocity, frame)\n",
    "    goals = localize(goals, frame, center=center)\n",
    "    rots = rots - rots[target_agent]\n",
    "    return agents, goals, rots, velocity\n",
    "\n",
    "def local_frame(rotation):\n",
    "    c = torch.cos(rotation)\n",
    "    s = torch.sin(rotation)\n",
    "    # For row vectors, use R(-theta)^T = [[cos, -sin], [sin, cos]]\n",
    "    frame = torch.cat(\n",
    "        [\n",
    "            torch.stack([c, -s], dim=-1),\n",
    "            torch.stack([s, c], dim=-1)\n",
    "        ],\n",
    "        dim=-2,\n",
    "    )\n",
    "    return frame\n",
    "\n",
    "\n",
    "\n",
    "\n",
    "def localize(pos, frame, center=None):\n",
    "    if center is not None:\n",
    "        pos = pos - center\n",
    "    return torch.bmm(\n",
    "        pos.unsqueeze(1),\n",
    "        frame,\n",
    "    ).squeeze(1)\n",
    "# Generate data\n",
    "goals = torch.rand([3, 2]) * 4 - 2\n",
    "agents = torch.rand([3, 2]) * 4 - 2\n",
    "velocity = torch.rand([3, 2])\n",
    "rots = torch.rand([3, 1]) * 2 * torch.pi\n",
    "\n",
    "plot_all(goals, agents, velocity, rots, plot_frames=True)\n",
    "plot_all(goals, agents, velocity, rots, frame_idx=0, plot_frames=True)\n",
    "plot_all(goals, agents, velocity, rots, frame_idx=1, plot_frames=True)"
   ],
   "outputs": [
    {
     "data": {
      "application/vnd.plotly.v1+json": {
       "data": [
        {
         "marker": {
          "color": "red",
          "size": 10
         },
         "mode": "markers",
         "name": "Agents",
         "x": [
          -0.6964328,
          1.8175142,
          0.7999487
         ],
         "y": [
          -0.4169593,
          1.5927746,
          -1.7998264
         ],
         "type": "scatter"
        },
        {
         "mode": "text",
         "showlegend": false,
         "text": [
          "A1"
         ],
         "textposition": "top center",
         "x": [
          -0.6964328289031982
         ],
         "y": [
          -0.416959285736084
         ],
         "type": "scatter"
        },
        {
         "mode": "text",
         "showlegend": false,
         "text": [
          "A2"
         ],
         "textposition": "top center",
         "x": [
          1.817514181137085
         ],
         "y": [
          1.5927746295928955
         ],
         "type": "scatter"
        },
        {
         "mode": "text",
         "showlegend": false,
         "text": [
          "A3"
         ],
         "textposition": "top center",
         "x": [
          0.7999486923217773
         ],
         "y": [
          -1.7998263835906982
         ],
         "type": "scatter"
        },
        {
         "marker": {
          "color": "blue",
          "size": 10
         },
         "mode": "markers",
         "name": "Goals",
         "x": [
          0.17514706,
          -1.8152533,
          -1.5726783
         ],
         "y": [
          0.26723003,
          -1.8949025,
          -1.8854315
         ],
         "type": "scatter"
        },
        {
         "line": {
          "color": "green"
         },
         "mode": "lines+markers",
         "name": "Velocity 1",
         "x": [
          -0.6964328289031982,
          -0.23959648609161377
         ],
         "y": [
          -0.416959285736084,
          0.19547796249389648
         ],
         "type": "scatter"
        },
        {
         "line": {
          "color": "purple",
          "dash": "dot"
         },
         "mode": "lines+text",
         "name": "Rotation 1",
         "text": [
          "",
          "0.33"
         ],
         "textposition": "top center",
         "x": [
          -0.6964328289031982,
          -1.1858460903167725
         ],
         "y": [
          -0.416959285736084,
          0.4550926685333252
         ],
         "type": "scatter"
        },
        {
         "line": {
          "color": "orange",
          "dash": "dash"
         },
         "mode": "lines",
         "name": "Agent to Goal 1",
         "x": [
          -0.6964328289031982,
          0.17514705657958984
         ],
         "y": [
          -0.416959285736084,
          0.2672300338745117
         ],
         "type": "scatter"
        },
        {
         "line": {
          "color": "cyan",
          "dash": "solid"
         },
         "mode": "lines",
         "name": "Frame 1 X-direction",
         "x": [
          -0.6964328289031982,
          -1.1858460903167725
         ],
         "y": [
          -0.416959285736084,
          0.4550926685333252
         ],
         "type": "scatter"
        },
        {
         "line": {
          "color": "magenta",
          "dash": "solid"
         },
         "mode": "lines",
         "name": "Frame 1 Y-direction",
         "x": [
          -0.6964328289031982,
          -1.5684847831726074
         ],
         "y": [
          -0.416959285736084,
          -0.9063725471496582
         ],
         "type": "scatter"
        },
        {
         "line": {
          "color": "cyan",
          "dash": "solid"
         },
         "mode": "lines",
         "name": "Frame 2 X-direction",
         "x": [
          1.817514181137085,
          1.012071132659912
         ],
         "y": [
          1.5927746295928955,
          2.1854476928710938
         ],
         "type": "scatter"
        },
        {
         "line": {
          "color": "magenta",
          "dash": "solid"
         },
         "mode": "lines",
         "name": "Frame 2 Y-direction",
         "x": [
          1.817514181137085,
          1.2248411178588867
         ],
         "y": [
          1.5927746295928955,
          0.7873315215110779
         ],
         "type": "scatter"
        },
        {
         "line": {
          "color": "cyan",
          "dash": "solid"
         },
         "mode": "lines",
         "name": "Frame 3 X-direction",
         "x": [
          0.7999486923217773,
          1.7465994358062744
         ],
         "y": [
          -1.7998263835906982,
          -2.1220877170562744
         ],
         "type": "scatter"
        },
        {
         "line": {
          "color": "magenta",
          "dash": "solid"
         },
         "mode": "lines",
         "name": "Frame 3 Y-direction",
         "x": [
          0.7999486923217773,
          1.122209906578064
         ],
         "y": [
          -1.7998263835906982,
          -0.8531755805015564
         ],
         "type": "scatter"
        },
        {
         "line": {
          "color": "green"
         },
         "mode": "lines+markers",
         "name": "Velocity 2",
         "x": [
          1.817514181137085,
          2.701850652694702
         ],
         "y": [
          1.5927746295928955,
          2.2550013065338135
         ],
         "type": "scatter"
        },
        {
         "line": {
          "color": "purple",
          "dash": "dot"
         },
         "mode": "lines+text",
         "name": "Rotation 2",
         "text": [
          "",
          "0.40"
         ],
         "textposition": "top center",
         "x": [
          1.817514181137085,
          1.012071132659912
         ],
         "y": [
          1.5927746295928955,
          2.1854476928710938
         ],
         "type": "scatter"
        },
        {
         "line": {
          "color": "orange",
          "dash": "dash"
         },
         "mode": "lines",
         "name": "Agent to Goal 2",
         "x": [
          1.817514181137085,
          -1.8152532577514648
         ],
         "y": [
          1.5927746295928955,
          -1.8949024677276611
         ],
         "type": "scatter"
        },
        {
         "line": {
          "color": "cyan",
          "dash": "solid"
         },
         "mode": "lines",
         "name": "Frame 1 X-direction",
         "x": [
          -0.6964328289031982,
          -1.1858460903167725
         ],
         "y": [
          -0.416959285736084,
          0.4550926685333252
         ],
         "type": "scatter"
        },
        {
         "line": {
          "color": "magenta",
          "dash": "solid"
         },
         "mode": "lines",
         "name": "Frame 1 Y-direction",
         "x": [
          -0.6964328289031982,
          -1.5684847831726074
         ],
         "y": [
          -0.416959285736084,
          -0.9063725471496582
         ],
         "type": "scatter"
        },
        {
         "line": {
          "color": "cyan",
          "dash": "solid"
         },
         "mode": "lines",
         "name": "Frame 2 X-direction",
         "x": [
          1.817514181137085,
          1.012071132659912
         ],
         "y": [
          1.5927746295928955,
          2.1854476928710938
         ],
         "type": "scatter"
        },
        {
         "line": {
          "color": "magenta",
          "dash": "solid"
         },
         "mode": "lines",
         "name": "Frame 2 Y-direction",
         "x": [
          1.817514181137085,
          1.2248411178588867
         ],
         "y": [
          1.5927746295928955,
          0.7873315215110779
         ],
         "type": "scatter"
        },
        {
         "line": {
          "color": "cyan",
          "dash": "solid"
         },
         "mode": "lines",
         "name": "Frame 3 X-direction",
         "x": [
          0.7999486923217773,
          1.7465994358062744
         ],
         "y": [
          -1.7998263835906982,
          -2.1220877170562744
         ],
         "type": "scatter"
        },
        {
         "line": {
          "color": "magenta",
          "dash": "solid"
         },
         "mode": "lines",
         "name": "Frame 3 Y-direction",
         "x": [
          0.7999486923217773,
          1.122209906578064
         ],
         "y": [
          -1.7998263835906982,
          -0.8531755805015564
         ],
         "type": "scatter"
        },
        {
         "line": {
          "color": "green"
         },
         "mode": "lines+markers",
         "name": "Velocity 3",
         "x": [
          0.7999486923217773,
          1.735424518585205
         ],
         "y": [
          -1.7998263835906982,
          -1.5990620851516724
         ],
         "type": "scatter"
        },
        {
         "line": {
          "color": "purple",
          "dash": "dot"
         },
         "mode": "lines+text",
         "name": "Rotation 3",
         "text": [
          "",
          "0.95"
         ],
         "textposition": "top center",
         "x": [
          0.7999486923217773,
          1.7465994358062744
         ],
         "y": [
          -1.7998263835906982,
          -2.1220877170562744
         ],
         "type": "scatter"
        },
        {
         "line": {
          "color": "orange",
          "dash": "dash"
         },
         "mode": "lines",
         "name": "Agent to Goal 3",
         "x": [
          0.7999486923217773,
          -1.5726783275604248
         ],
         "y": [
          -1.7998263835906982,
          -1.8854315280914307
         ],
         "type": "scatter"
        },
        {
         "line": {
          "color": "cyan",
          "dash": "solid"
         },
         "mode": "lines",
         "name": "Frame 1 X-direction",
         "x": [
          -0.6964328289031982,
          -1.1858460903167725
         ],
         "y": [
          -0.416959285736084,
          0.4550926685333252
         ],
         "type": "scatter"
        },
        {
         "line": {
          "color": "magenta",
          "dash": "solid"
         },
         "mode": "lines",
         "name": "Frame 1 Y-direction",
         "x": [
          -0.6964328289031982,
          -1.5684847831726074
         ],
         "y": [
          -0.416959285736084,
          -0.9063725471496582
         ],
         "type": "scatter"
        },
        {
         "line": {
          "color": "cyan",
          "dash": "solid"
         },
         "mode": "lines",
         "name": "Frame 2 X-direction",
         "x": [
          1.817514181137085,
          1.012071132659912
         ],
         "y": [
          1.5927746295928955,
          2.1854476928710938
         ],
         "type": "scatter"
        },
        {
         "line": {
          "color": "magenta",
          "dash": "solid"
         },
         "mode": "lines",
         "name": "Frame 2 Y-direction",
         "x": [
          1.817514181137085,
          1.2248411178588867
         ],
         "y": [
          1.5927746295928955,
          0.7873315215110779
         ],
         "type": "scatter"
        },
        {
         "line": {
          "color": "cyan",
          "dash": "solid"
         },
         "mode": "lines",
         "name": "Frame 3 X-direction",
         "x": [
          0.7999486923217773,
          1.7465994358062744
         ],
         "y": [
          -1.7998263835906982,
          -2.1220877170562744
         ],
         "type": "scatter"
        },
        {
         "line": {
          "color": "magenta",
          "dash": "solid"
         },
         "mode": "lines",
         "name": "Frame 3 Y-direction",
         "x": [
          0.7999486923217773,
          1.122209906578064
         ],
         "y": [
          -1.7998263835906982,
          -0.8531755805015564
         ],
         "type": "scatter"
        }
       ],
       "layout": {
        "template": {
         "data": {
          "histogram2dcontour": [
           {
            "type": "histogram2dcontour",
            "colorbar": {
             "outlinewidth": 0,
             "ticks": ""
            },
            "colorscale": [
             [
              0.0,
              "#0d0887"
             ],
             [
              0.1111111111111111,
              "#46039f"
             ],
             [
              0.2222222222222222,
              "#7201a8"
             ],
             [
              0.3333333333333333,
              "#9c179e"
             ],
             [
              0.4444444444444444,
              "#bd3786"
             ],
             [
              0.5555555555555556,
              "#d8576b"
             ],
             [
              0.6666666666666666,
              "#ed7953"
             ],
             [
              0.7777777777777778,
              "#fb9f3a"
             ],
             [
              0.8888888888888888,
              "#fdca26"
             ],
             [
              1.0,
              "#f0f921"
             ]
            ]
           }
          ],
          "choropleth": [
           {
            "type": "choropleth",
            "colorbar": {
             "outlinewidth": 0,
             "ticks": ""
            }
           }
          ],
          "histogram2d": [
           {
            "type": "histogram2d",
            "colorbar": {
             "outlinewidth": 0,
             "ticks": ""
            },
            "colorscale": [
             [
              0.0,
              "#0d0887"
             ],
             [
              0.1111111111111111,
              "#46039f"
             ],
             [
              0.2222222222222222,
              "#7201a8"
             ],
             [
              0.3333333333333333,
              "#9c179e"
             ],
             [
              0.4444444444444444,
              "#bd3786"
             ],
             [
              0.5555555555555556,
              "#d8576b"
             ],
             [
              0.6666666666666666,
              "#ed7953"
             ],
             [
              0.7777777777777778,
              "#fb9f3a"
             ],
             [
              0.8888888888888888,
              "#fdca26"
             ],
             [
              1.0,
              "#f0f921"
             ]
            ]
           }
          ],
          "heatmap": [
           {
            "type": "heatmap",
            "colorbar": {
             "outlinewidth": 0,
             "ticks": ""
            },
            "colorscale": [
             [
              0.0,
              "#0d0887"
             ],
             [
              0.1111111111111111,
              "#46039f"
             ],
             [
              0.2222222222222222,
              "#7201a8"
             ],
             [
              0.3333333333333333,
              "#9c179e"
             ],
             [
              0.4444444444444444,
              "#bd3786"
             ],
             [
              0.5555555555555556,
              "#d8576b"
             ],
             [
              0.6666666666666666,
              "#ed7953"
             ],
             [
              0.7777777777777778,
              "#fb9f3a"
             ],
             [
              0.8888888888888888,
              "#fdca26"
             ],
             [
              1.0,
              "#f0f921"
             ]
            ]
           }
          ],
          "heatmapgl": [
           {
            "type": "heatmapgl",
            "colorbar": {
             "outlinewidth": 0,
             "ticks": ""
            },
            "colorscale": [
             [
              0.0,
              "#0d0887"
             ],
             [
              0.1111111111111111,
              "#46039f"
             ],
             [
              0.2222222222222222,
              "#7201a8"
             ],
             [
              0.3333333333333333,
              "#9c179e"
             ],
             [
              0.4444444444444444,
              "#bd3786"
             ],
             [
              0.5555555555555556,
              "#d8576b"
             ],
             [
              0.6666666666666666,
              "#ed7953"
             ],
             [
              0.7777777777777778,
              "#fb9f3a"
             ],
             [
              0.8888888888888888,
              "#fdca26"
             ],
             [
              1.0,
              "#f0f921"
             ]
            ]
           }
          ],
          "contourcarpet": [
           {
            "type": "contourcarpet",
            "colorbar": {
             "outlinewidth": 0,
             "ticks": ""
            }
           }
          ],
          "contour": [
           {
            "type": "contour",
            "colorbar": {
             "outlinewidth": 0,
             "ticks": ""
            },
            "colorscale": [
             [
              0.0,
              "#0d0887"
             ],
             [
              0.1111111111111111,
              "#46039f"
             ],
             [
              0.2222222222222222,
              "#7201a8"
             ],
             [
              0.3333333333333333,
              "#9c179e"
             ],
             [
              0.4444444444444444,
              "#bd3786"
             ],
             [
              0.5555555555555556,
              "#d8576b"
             ],
             [
              0.6666666666666666,
              "#ed7953"
             ],
             [
              0.7777777777777778,
              "#fb9f3a"
             ],
             [
              0.8888888888888888,
              "#fdca26"
             ],
             [
              1.0,
              "#f0f921"
             ]
            ]
           }
          ],
          "surface": [
           {
            "type": "surface",
            "colorbar": {
             "outlinewidth": 0,
             "ticks": ""
            },
            "colorscale": [
             [
              0.0,
              "#0d0887"
             ],
             [
              0.1111111111111111,
              "#46039f"
             ],
             [
              0.2222222222222222,
              "#7201a8"
             ],
             [
              0.3333333333333333,
              "#9c179e"
             ],
             [
              0.4444444444444444,
              "#bd3786"
             ],
             [
              0.5555555555555556,
              "#d8576b"
             ],
             [
              0.6666666666666666,
              "#ed7953"
             ],
             [
              0.7777777777777778,
              "#fb9f3a"
             ],
             [
              0.8888888888888888,
              "#fdca26"
             ],
             [
              1.0,
              "#f0f921"
             ]
            ]
           }
          ],
          "mesh3d": [
           {
            "type": "mesh3d",
            "colorbar": {
             "outlinewidth": 0,
             "ticks": ""
            }
           }
          ],
          "scatter": [
           {
            "fillpattern": {
             "fillmode": "overlay",
             "size": 10,
             "solidity": 0.2
            },
            "type": "scatter"
           }
          ],
          "parcoords": [
           {
            "type": "parcoords",
            "line": {
             "colorbar": {
              "outlinewidth": 0,
              "ticks": ""
             }
            }
           }
          ],
          "scatterpolargl": [
           {
            "type": "scatterpolargl",
            "marker": {
             "colorbar": {
              "outlinewidth": 0,
              "ticks": ""
             }
            }
           }
          ],
          "bar": [
           {
            "error_x": {
             "color": "#2a3f5f"
            },
            "error_y": {
             "color": "#2a3f5f"
            },
            "marker": {
             "line": {
              "color": "#E5ECF6",
              "width": 0.5
             },
             "pattern": {
              "fillmode": "overlay",
              "size": 10,
              "solidity": 0.2
             }
            },
            "type": "bar"
           }
          ],
          "scattergeo": [
           {
            "type": "scattergeo",
            "marker": {
             "colorbar": {
              "outlinewidth": 0,
              "ticks": ""
             }
            }
           }
          ],
          "scatterpolar": [
           {
            "type": "scatterpolar",
            "marker": {
             "colorbar": {
              "outlinewidth": 0,
              "ticks": ""
             }
            }
           }
          ],
          "histogram": [
           {
            "marker": {
             "pattern": {
              "fillmode": "overlay",
              "size": 10,
              "solidity": 0.2
             }
            },
            "type": "histogram"
           }
          ],
          "scattergl": [
           {
            "type": "scattergl",
            "marker": {
             "colorbar": {
              "outlinewidth": 0,
              "ticks": ""
             }
            }
           }
          ],
          "scatter3d": [
           {
            "type": "scatter3d",
            "line": {
             "colorbar": {
              "outlinewidth": 0,
              "ticks": ""
             }
            },
            "marker": {
             "colorbar": {
              "outlinewidth": 0,
              "ticks": ""
             }
            }
           }
          ],
          "scattermapbox": [
           {
            "type": "scattermapbox",
            "marker": {
             "colorbar": {
              "outlinewidth": 0,
              "ticks": ""
             }
            }
           }
          ],
          "scatterternary": [
           {
            "type": "scatterternary",
            "marker": {
             "colorbar": {
              "outlinewidth": 0,
              "ticks": ""
             }
            }
           }
          ],
          "scattercarpet": [
           {
            "type": "scattercarpet",
            "marker": {
             "colorbar": {
              "outlinewidth": 0,
              "ticks": ""
             }
            }
           }
          ],
          "carpet": [
           {
            "aaxis": {
             "endlinecolor": "#2a3f5f",
             "gridcolor": "white",
             "linecolor": "white",
             "minorgridcolor": "white",
             "startlinecolor": "#2a3f5f"
            },
            "baxis": {
             "endlinecolor": "#2a3f5f",
             "gridcolor": "white",
             "linecolor": "white",
             "minorgridcolor": "white",
             "startlinecolor": "#2a3f5f"
            },
            "type": "carpet"
           }
          ],
          "table": [
           {
            "cells": {
             "fill": {
              "color": "#EBF0F8"
             },
             "line": {
              "color": "white"
             }
            },
            "header": {
             "fill": {
              "color": "#C8D4E3"
             },
             "line": {
              "color": "white"
             }
            },
            "type": "table"
           }
          ],
          "barpolar": [
           {
            "marker": {
             "line": {
              "color": "#E5ECF6",
              "width": 0.5
             },
             "pattern": {
              "fillmode": "overlay",
              "size": 10,
              "solidity": 0.2
             }
            },
            "type": "barpolar"
           }
          ],
          "pie": [
           {
            "automargin": true,
            "type": "pie"
           }
          ]
         },
         "layout": {
          "autotypenumbers": "strict",
          "colorway": [
           "#636efa",
           "#EF553B",
           "#00cc96",
           "#ab63fa",
           "#FFA15A",
           "#19d3f3",
           "#FF6692",
           "#B6E880",
           "#FF97FF",
           "#FECB52"
          ],
          "font": {
           "color": "#2a3f5f"
          },
          "hovermode": "closest",
          "hoverlabel": {
           "align": "left"
          },
          "paper_bgcolor": "white",
          "plot_bgcolor": "#E5ECF6",
          "polar": {
           "bgcolor": "#E5ECF6",
           "angularaxis": {
            "gridcolor": "white",
            "linecolor": "white",
            "ticks": ""
           },
           "radialaxis": {
            "gridcolor": "white",
            "linecolor": "white",
            "ticks": ""
           }
          },
          "ternary": {
           "bgcolor": "#E5ECF6",
           "aaxis": {
            "gridcolor": "white",
            "linecolor": "white",
            "ticks": ""
           },
           "baxis": {
            "gridcolor": "white",
            "linecolor": "white",
            "ticks": ""
           },
           "caxis": {
            "gridcolor": "white",
            "linecolor": "white",
            "ticks": ""
           }
          },
          "coloraxis": {
           "colorbar": {
            "outlinewidth": 0,
            "ticks": ""
           }
          },
          "colorscale": {
           "sequential": [
            [
             0.0,
             "#0d0887"
            ],
            [
             0.1111111111111111,
             "#46039f"
            ],
            [
             0.2222222222222222,
             "#7201a8"
            ],
            [
             0.3333333333333333,
             "#9c179e"
            ],
            [
             0.4444444444444444,
             "#bd3786"
            ],
            [
             0.5555555555555556,
             "#d8576b"
            ],
            [
             0.6666666666666666,
             "#ed7953"
            ],
            [
             0.7777777777777778,
             "#fb9f3a"
            ],
            [
             0.8888888888888888,
             "#fdca26"
            ],
            [
             1.0,
             "#f0f921"
            ]
           ],
           "sequentialminus": [
            [
             0.0,
             "#0d0887"
            ],
            [
             0.1111111111111111,
             "#46039f"
            ],
            [
             0.2222222222222222,
             "#7201a8"
            ],
            [
             0.3333333333333333,
             "#9c179e"
            ],
            [
             0.4444444444444444,
             "#bd3786"
            ],
            [
             0.5555555555555556,
             "#d8576b"
            ],
            [
             0.6666666666666666,
             "#ed7953"
            ],
            [
             0.7777777777777778,
             "#fb9f3a"
            ],
            [
             0.8888888888888888,
             "#fdca26"
            ],
            [
             1.0,
             "#f0f921"
            ]
           ],
           "diverging": [
            [
             0,
             "#8e0152"
            ],
            [
             0.1,
             "#c51b7d"
            ],
            [
             0.2,
             "#de77ae"
            ],
            [
             0.3,
             "#f1b6da"
            ],
            [
             0.4,
             "#fde0ef"
            ],
            [
             0.5,
             "#f7f7f7"
            ],
            [
             0.6,
             "#e6f5d0"
            ],
            [
             0.7,
             "#b8e186"
            ],
            [
             0.8,
             "#7fbc41"
            ],
            [
             0.9,
             "#4d9221"
            ],
            [
             1,
             "#276419"
            ]
           ]
          },
          "xaxis": {
           "gridcolor": "white",
           "linecolor": "white",
           "ticks": "",
           "title": {
            "standoff": 15
           },
           "zerolinecolor": "white",
           "automargin": true,
           "zerolinewidth": 2
          },
          "yaxis": {
           "gridcolor": "white",
           "linecolor": "white",
           "ticks": "",
           "title": {
            "standoff": 15
           },
           "zerolinecolor": "white",
           "automargin": true,
           "zerolinewidth": 2
          },
          "scene": {
           "xaxis": {
            "backgroundcolor": "#E5ECF6",
            "gridcolor": "white",
            "linecolor": "white",
            "showbackground": true,
            "ticks": "",
            "zerolinecolor": "white",
            "gridwidth": 2
           },
           "yaxis": {
            "backgroundcolor": "#E5ECF6",
            "gridcolor": "white",
            "linecolor": "white",
            "showbackground": true,
            "ticks": "",
            "zerolinecolor": "white",
            "gridwidth": 2
           },
           "zaxis": {
            "backgroundcolor": "#E5ECF6",
            "gridcolor": "white",
            "linecolor": "white",
            "showbackground": true,
            "ticks": "",
            "zerolinecolor": "white",
            "gridwidth": 2
           }
          },
          "shapedefaults": {
           "line": {
            "color": "#2a3f5f"
           }
          },
          "annotationdefaults": {
           "arrowcolor": "#2a3f5f",
           "arrowhead": 0,
           "arrowwidth": 1
          },
          "geo": {
           "bgcolor": "white",
           "landcolor": "#E5ECF6",
           "subunitcolor": "white",
           "showland": true,
           "showlakes": true,
           "lakecolor": "white"
          },
          "title": {
           "x": 0.05
          },
          "mapbox": {
           "style": "light"
          }
         }
        },
        "xaxis": {
         "title": {
          "text": "X"
         },
         "scaleanchor": "y",
         "scaleratio": 1,
         "range": [
          -3,
          3
         ]
        },
        "yaxis": {
         "title": {
          "text": "Y"
         },
         "range": [
          -3,
          3
         ]
        },
        "title": {
         "text": "Goals, Agents, Velocity, Rotations, Frames and Lines to Goals"
        },
        "legend": {
         "title": {
          "text": "Legend"
         }
        },
        "showlegend": true
       },
       "config": {
        "plotlyServerURL": "https://plot.ly"
       }
      },
      "text/html": [
       "<div>                            <div id=\"5ea7ad90-bc68-4cfc-bb6d-6c7e6e21a4e0\" class=\"plotly-graph-div\" style=\"height:525px; width:100%;\"></div>            <script type=\"text/javascript\">                require([\"plotly\"], function(Plotly) {                    window.PLOTLYENV=window.PLOTLYENV || {};                                    if (document.getElementById(\"5ea7ad90-bc68-4cfc-bb6d-6c7e6e21a4e0\")) {                    Plotly.newPlot(                        \"5ea7ad90-bc68-4cfc-bb6d-6c7e6e21a4e0\",                        [{\"marker\":{\"color\":\"red\",\"size\":10},\"mode\":\"markers\",\"name\":\"Agents\",\"x\":[-0.6964328,1.8175142,0.7999487],\"y\":[-0.4169593,1.5927746,-1.7998264],\"type\":\"scatter\"},{\"mode\":\"text\",\"showlegend\":false,\"text\":[\"A1\"],\"textposition\":\"top center\",\"x\":[-0.6964328289031982],\"y\":[-0.416959285736084],\"type\":\"scatter\"},{\"mode\":\"text\",\"showlegend\":false,\"text\":[\"A2\"],\"textposition\":\"top center\",\"x\":[1.817514181137085],\"y\":[1.5927746295928955],\"type\":\"scatter\"},{\"mode\":\"text\",\"showlegend\":false,\"text\":[\"A3\"],\"textposition\":\"top center\",\"x\":[0.7999486923217773],\"y\":[-1.7998263835906982],\"type\":\"scatter\"},{\"marker\":{\"color\":\"blue\",\"size\":10},\"mode\":\"markers\",\"name\":\"Goals\",\"x\":[0.17514706,-1.8152533,-1.5726783],\"y\":[0.26723003,-1.8949025,-1.8854315],\"type\":\"scatter\"},{\"line\":{\"color\":\"green\"},\"mode\":\"lines+markers\",\"name\":\"Velocity 1\",\"x\":[-0.6964328289031982,-0.23959648609161377],\"y\":[-0.416959285736084,0.19547796249389648],\"type\":\"scatter\"},{\"line\":{\"color\":\"purple\",\"dash\":\"dot\"},\"mode\":\"lines+text\",\"name\":\"Rotation 1\",\"text\":[\"\",\"0.33\"],\"textposition\":\"top center\",\"x\":[-0.6964328289031982,-1.1858460903167725],\"y\":[-0.416959285736084,0.4550926685333252],\"type\":\"scatter\"},{\"line\":{\"color\":\"orange\",\"dash\":\"dash\"},\"mode\":\"lines\",\"name\":\"Agent to Goal 1\",\"x\":[-0.6964328289031982,0.17514705657958984],\"y\":[-0.416959285736084,0.2672300338745117],\"type\":\"scatter\"},{\"line\":{\"color\":\"cyan\",\"dash\":\"solid\"},\"mode\":\"lines\",\"name\":\"Frame 1 X-direction\",\"x\":[-0.6964328289031982,-1.1858460903167725],\"y\":[-0.416959285736084,0.4550926685333252],\"type\":\"scatter\"},{\"line\":{\"color\":\"magenta\",\"dash\":\"solid\"},\"mode\":\"lines\",\"name\":\"Frame 1 Y-direction\",\"x\":[-0.6964328289031982,-1.5684847831726074],\"y\":[-0.416959285736084,-0.9063725471496582],\"type\":\"scatter\"},{\"line\":{\"color\":\"cyan\",\"dash\":\"solid\"},\"mode\":\"lines\",\"name\":\"Frame 2 X-direction\",\"x\":[1.817514181137085,1.012071132659912],\"y\":[1.5927746295928955,2.1854476928710938],\"type\":\"scatter\"},{\"line\":{\"color\":\"magenta\",\"dash\":\"solid\"},\"mode\":\"lines\",\"name\":\"Frame 2 Y-direction\",\"x\":[1.817514181137085,1.2248411178588867],\"y\":[1.5927746295928955,0.7873315215110779],\"type\":\"scatter\"},{\"line\":{\"color\":\"cyan\",\"dash\":\"solid\"},\"mode\":\"lines\",\"name\":\"Frame 3 X-direction\",\"x\":[0.7999486923217773,1.7465994358062744],\"y\":[-1.7998263835906982,-2.1220877170562744],\"type\":\"scatter\"},{\"line\":{\"color\":\"magenta\",\"dash\":\"solid\"},\"mode\":\"lines\",\"name\":\"Frame 3 Y-direction\",\"x\":[0.7999486923217773,1.122209906578064],\"y\":[-1.7998263835906982,-0.8531755805015564],\"type\":\"scatter\"},{\"line\":{\"color\":\"green\"},\"mode\":\"lines+markers\",\"name\":\"Velocity 2\",\"x\":[1.817514181137085,2.701850652694702],\"y\":[1.5927746295928955,2.2550013065338135],\"type\":\"scatter\"},{\"line\":{\"color\":\"purple\",\"dash\":\"dot\"},\"mode\":\"lines+text\",\"name\":\"Rotation 2\",\"text\":[\"\",\"0.40\"],\"textposition\":\"top center\",\"x\":[1.817514181137085,1.012071132659912],\"y\":[1.5927746295928955,2.1854476928710938],\"type\":\"scatter\"},{\"line\":{\"color\":\"orange\",\"dash\":\"dash\"},\"mode\":\"lines\",\"name\":\"Agent to Goal 2\",\"x\":[1.817514181137085,-1.8152532577514648],\"y\":[1.5927746295928955,-1.8949024677276611],\"type\":\"scatter\"},{\"line\":{\"color\":\"cyan\",\"dash\":\"solid\"},\"mode\":\"lines\",\"name\":\"Frame 1 X-direction\",\"x\":[-0.6964328289031982,-1.1858460903167725],\"y\":[-0.416959285736084,0.4550926685333252],\"type\":\"scatter\"},{\"line\":{\"color\":\"magenta\",\"dash\":\"solid\"},\"mode\":\"lines\",\"name\":\"Frame 1 Y-direction\",\"x\":[-0.6964328289031982,-1.5684847831726074],\"y\":[-0.416959285736084,-0.9063725471496582],\"type\":\"scatter\"},{\"line\":{\"color\":\"cyan\",\"dash\":\"solid\"},\"mode\":\"lines\",\"name\":\"Frame 2 X-direction\",\"x\":[1.817514181137085,1.012071132659912],\"y\":[1.5927746295928955,2.1854476928710938],\"type\":\"scatter\"},{\"line\":{\"color\":\"magenta\",\"dash\":\"solid\"},\"mode\":\"lines\",\"name\":\"Frame 2 Y-direction\",\"x\":[1.817514181137085,1.2248411178588867],\"y\":[1.5927746295928955,0.7873315215110779],\"type\":\"scatter\"},{\"line\":{\"color\":\"cyan\",\"dash\":\"solid\"},\"mode\":\"lines\",\"name\":\"Frame 3 X-direction\",\"x\":[0.7999486923217773,1.7465994358062744],\"y\":[-1.7998263835906982,-2.1220877170562744],\"type\":\"scatter\"},{\"line\":{\"color\":\"magenta\",\"dash\":\"solid\"},\"mode\":\"lines\",\"name\":\"Frame 3 Y-direction\",\"x\":[0.7999486923217773,1.122209906578064],\"y\":[-1.7998263835906982,-0.8531755805015564],\"type\":\"scatter\"},{\"line\":{\"color\":\"green\"},\"mode\":\"lines+markers\",\"name\":\"Velocity 3\",\"x\":[0.7999486923217773,1.735424518585205],\"y\":[-1.7998263835906982,-1.5990620851516724],\"type\":\"scatter\"},{\"line\":{\"color\":\"purple\",\"dash\":\"dot\"},\"mode\":\"lines+text\",\"name\":\"Rotation 3\",\"text\":[\"\",\"0.95\"],\"textposition\":\"top center\",\"x\":[0.7999486923217773,1.7465994358062744],\"y\":[-1.7998263835906982,-2.1220877170562744],\"type\":\"scatter\"},{\"line\":{\"color\":\"orange\",\"dash\":\"dash\"},\"mode\":\"lines\",\"name\":\"Agent to Goal 3\",\"x\":[0.7999486923217773,-1.5726783275604248],\"y\":[-1.7998263835906982,-1.8854315280914307],\"type\":\"scatter\"},{\"line\":{\"color\":\"cyan\",\"dash\":\"solid\"},\"mode\":\"lines\",\"name\":\"Frame 1 X-direction\",\"x\":[-0.6964328289031982,-1.1858460903167725],\"y\":[-0.416959285736084,0.4550926685333252],\"type\":\"scatter\"},{\"line\":{\"color\":\"magenta\",\"dash\":\"solid\"},\"mode\":\"lines\",\"name\":\"Frame 1 Y-direction\",\"x\":[-0.6964328289031982,-1.5684847831726074],\"y\":[-0.416959285736084,-0.9063725471496582],\"type\":\"scatter\"},{\"line\":{\"color\":\"cyan\",\"dash\":\"solid\"},\"mode\":\"lines\",\"name\":\"Frame 2 X-direction\",\"x\":[1.817514181137085,1.012071132659912],\"y\":[1.5927746295928955,2.1854476928710938],\"type\":\"scatter\"},{\"line\":{\"color\":\"magenta\",\"dash\":\"solid\"},\"mode\":\"lines\",\"name\":\"Frame 2 Y-direction\",\"x\":[1.817514181137085,1.2248411178588867],\"y\":[1.5927746295928955,0.7873315215110779],\"type\":\"scatter\"},{\"line\":{\"color\":\"cyan\",\"dash\":\"solid\"},\"mode\":\"lines\",\"name\":\"Frame 3 X-direction\",\"x\":[0.7999486923217773,1.7465994358062744],\"y\":[-1.7998263835906982,-2.1220877170562744],\"type\":\"scatter\"},{\"line\":{\"color\":\"magenta\",\"dash\":\"solid\"},\"mode\":\"lines\",\"name\":\"Frame 3 Y-direction\",\"x\":[0.7999486923217773,1.122209906578064],\"y\":[-1.7998263835906982,-0.8531755805015564],\"type\":\"scatter\"}],                        {\"template\":{\"data\":{\"histogram2dcontour\":[{\"type\":\"histogram2dcontour\",\"colorbar\":{\"outlinewidth\":0,\"ticks\":\"\"},\"colorscale\":[[0.0,\"#0d0887\"],[0.1111111111111111,\"#46039f\"],[0.2222222222222222,\"#7201a8\"],[0.3333333333333333,\"#9c179e\"],[0.4444444444444444,\"#bd3786\"],[0.5555555555555556,\"#d8576b\"],[0.6666666666666666,\"#ed7953\"],[0.7777777777777778,\"#fb9f3a\"],[0.8888888888888888,\"#fdca26\"],[1.0,\"#f0f921\"]]}],\"choropleth\":[{\"type\":\"choropleth\",\"colorbar\":{\"outlinewidth\":0,\"ticks\":\"\"}}],\"histogram2d\":[{\"type\":\"histogram2d\",\"colorbar\":{\"outlinewidth\":0,\"ticks\":\"\"},\"colorscale\":[[0.0,\"#0d0887\"],[0.1111111111111111,\"#46039f\"],[0.2222222222222222,\"#7201a8\"],[0.3333333333333333,\"#9c179e\"],[0.4444444444444444,\"#bd3786\"],[0.5555555555555556,\"#d8576b\"],[0.6666666666666666,\"#ed7953\"],[0.7777777777777778,\"#fb9f3a\"],[0.8888888888888888,\"#fdca26\"],[1.0,\"#f0f921\"]]}],\"heatmap\":[{\"type\":\"heatmap\",\"colorbar\":{\"outlinewidth\":0,\"ticks\":\"\"},\"colorscale\":[[0.0,\"#0d0887\"],[0.1111111111111111,\"#46039f\"],[0.2222222222222222,\"#7201a8\"],[0.3333333333333333,\"#9c179e\"],[0.4444444444444444,\"#bd3786\"],[0.5555555555555556,\"#d8576b\"],[0.6666666666666666,\"#ed7953\"],[0.7777777777777778,\"#fb9f3a\"],[0.8888888888888888,\"#fdca26\"],[1.0,\"#f0f921\"]]}],\"heatmapgl\":[{\"type\":\"heatmapgl\",\"colorbar\":{\"outlinewidth\":0,\"ticks\":\"\"},\"colorscale\":[[0.0,\"#0d0887\"],[0.1111111111111111,\"#46039f\"],[0.2222222222222222,\"#7201a8\"],[0.3333333333333333,\"#9c179e\"],[0.4444444444444444,\"#bd3786\"],[0.5555555555555556,\"#d8576b\"],[0.6666666666666666,\"#ed7953\"],[0.7777777777777778,\"#fb9f3a\"],[0.8888888888888888,\"#fdca26\"],[1.0,\"#f0f921\"]]}],\"contourcarpet\":[{\"type\":\"contourcarpet\",\"colorbar\":{\"outlinewidth\":0,\"ticks\":\"\"}}],\"contour\":[{\"type\":\"contour\",\"colorbar\":{\"outlinewidth\":0,\"ticks\":\"\"},\"colorscale\":[[0.0,\"#0d0887\"],[0.1111111111111111,\"#46039f\"],[0.2222222222222222,\"#7201a8\"],[0.3333333333333333,\"#9c179e\"],[0.4444444444444444,\"#bd3786\"],[0.5555555555555556,\"#d8576b\"],[0.6666666666666666,\"#ed7953\"],[0.7777777777777778,\"#fb9f3a\"],[0.8888888888888888,\"#fdca26\"],[1.0,\"#f0f921\"]]}],\"surface\":[{\"type\":\"surface\",\"colorbar\":{\"outlinewidth\":0,\"ticks\":\"\"},\"colorscale\":[[0.0,\"#0d0887\"],[0.1111111111111111,\"#46039f\"],[0.2222222222222222,\"#7201a8\"],[0.3333333333333333,\"#9c179e\"],[0.4444444444444444,\"#bd3786\"],[0.5555555555555556,\"#d8576b\"],[0.6666666666666666,\"#ed7953\"],[0.7777777777777778,\"#fb9f3a\"],[0.8888888888888888,\"#fdca26\"],[1.0,\"#f0f921\"]]}],\"mesh3d\":[{\"type\":\"mesh3d\",\"colorbar\":{\"outlinewidth\":0,\"ticks\":\"\"}}],\"scatter\":[{\"fillpattern\":{\"fillmode\":\"overlay\",\"size\":10,\"solidity\":0.2},\"type\":\"scatter\"}],\"parcoords\":[{\"type\":\"parcoords\",\"line\":{\"colorbar\":{\"outlinewidth\":0,\"ticks\":\"\"}}}],\"scatterpolargl\":[{\"type\":\"scatterpolargl\",\"marker\":{\"colorbar\":{\"outlinewidth\":0,\"ticks\":\"\"}}}],\"bar\":[{\"error_x\":{\"color\":\"#2a3f5f\"},\"error_y\":{\"color\":\"#2a3f5f\"},\"marker\":{\"line\":{\"color\":\"#E5ECF6\",\"width\":0.5},\"pattern\":{\"fillmode\":\"overlay\",\"size\":10,\"solidity\":0.2}},\"type\":\"bar\"}],\"scattergeo\":[{\"type\":\"scattergeo\",\"marker\":{\"colorbar\":{\"outlinewidth\":0,\"ticks\":\"\"}}}],\"scatterpolar\":[{\"type\":\"scatterpolar\",\"marker\":{\"colorbar\":{\"outlinewidth\":0,\"ticks\":\"\"}}}],\"histogram\":[{\"marker\":{\"pattern\":{\"fillmode\":\"overlay\",\"size\":10,\"solidity\":0.2}},\"type\":\"histogram\"}],\"scattergl\":[{\"type\":\"scattergl\",\"marker\":{\"colorbar\":{\"outlinewidth\":0,\"ticks\":\"\"}}}],\"scatter3d\":[{\"type\":\"scatter3d\",\"line\":{\"colorbar\":{\"outlinewidth\":0,\"ticks\":\"\"}},\"marker\":{\"colorbar\":{\"outlinewidth\":0,\"ticks\":\"\"}}}],\"scattermapbox\":[{\"type\":\"scattermapbox\",\"marker\":{\"colorbar\":{\"outlinewidth\":0,\"ticks\":\"\"}}}],\"scatterternary\":[{\"type\":\"scatterternary\",\"marker\":{\"colorbar\":{\"outlinewidth\":0,\"ticks\":\"\"}}}],\"scattercarpet\":[{\"type\":\"scattercarpet\",\"marker\":{\"colorbar\":{\"outlinewidth\":0,\"ticks\":\"\"}}}],\"carpet\":[{\"aaxis\":{\"endlinecolor\":\"#2a3f5f\",\"gridcolor\":\"white\",\"linecolor\":\"white\",\"minorgridcolor\":\"white\",\"startlinecolor\":\"#2a3f5f\"},\"baxis\":{\"endlinecolor\":\"#2a3f5f\",\"gridcolor\":\"white\",\"linecolor\":\"white\",\"minorgridcolor\":\"white\",\"startlinecolor\":\"#2a3f5f\"},\"type\":\"carpet\"}],\"table\":[{\"cells\":{\"fill\":{\"color\":\"#EBF0F8\"},\"line\":{\"color\":\"white\"}},\"header\":{\"fill\":{\"color\":\"#C8D4E3\"},\"line\":{\"color\":\"white\"}},\"type\":\"table\"}],\"barpolar\":[{\"marker\":{\"line\":{\"color\":\"#E5ECF6\",\"width\":0.5},\"pattern\":{\"fillmode\":\"overlay\",\"size\":10,\"solidity\":0.2}},\"type\":\"barpolar\"}],\"pie\":[{\"automargin\":true,\"type\":\"pie\"}]},\"layout\":{\"autotypenumbers\":\"strict\",\"colorway\":[\"#636efa\",\"#EF553B\",\"#00cc96\",\"#ab63fa\",\"#FFA15A\",\"#19d3f3\",\"#FF6692\",\"#B6E880\",\"#FF97FF\",\"#FECB52\"],\"font\":{\"color\":\"#2a3f5f\"},\"hovermode\":\"closest\",\"hoverlabel\":{\"align\":\"left\"},\"paper_bgcolor\":\"white\",\"plot_bgcolor\":\"#E5ECF6\",\"polar\":{\"bgcolor\":\"#E5ECF6\",\"angularaxis\":{\"gridcolor\":\"white\",\"linecolor\":\"white\",\"ticks\":\"\"},\"radialaxis\":{\"gridcolor\":\"white\",\"linecolor\":\"white\",\"ticks\":\"\"}},\"ternary\":{\"bgcolor\":\"#E5ECF6\",\"aaxis\":{\"gridcolor\":\"white\",\"linecolor\":\"white\",\"ticks\":\"\"},\"baxis\":{\"gridcolor\":\"white\",\"linecolor\":\"white\",\"ticks\":\"\"},\"caxis\":{\"gridcolor\":\"white\",\"linecolor\":\"white\",\"ticks\":\"\"}},\"coloraxis\":{\"colorbar\":{\"outlinewidth\":0,\"ticks\":\"\"}},\"colorscale\":{\"sequential\":[[0.0,\"#0d0887\"],[0.1111111111111111,\"#46039f\"],[0.2222222222222222,\"#7201a8\"],[0.3333333333333333,\"#9c179e\"],[0.4444444444444444,\"#bd3786\"],[0.5555555555555556,\"#d8576b\"],[0.6666666666666666,\"#ed7953\"],[0.7777777777777778,\"#fb9f3a\"],[0.8888888888888888,\"#fdca26\"],[1.0,\"#f0f921\"]],\"sequentialminus\":[[0.0,\"#0d0887\"],[0.1111111111111111,\"#46039f\"],[0.2222222222222222,\"#7201a8\"],[0.3333333333333333,\"#9c179e\"],[0.4444444444444444,\"#bd3786\"],[0.5555555555555556,\"#d8576b\"],[0.6666666666666666,\"#ed7953\"],[0.7777777777777778,\"#fb9f3a\"],[0.8888888888888888,\"#fdca26\"],[1.0,\"#f0f921\"]],\"diverging\":[[0,\"#8e0152\"],[0.1,\"#c51b7d\"],[0.2,\"#de77ae\"],[0.3,\"#f1b6da\"],[0.4,\"#fde0ef\"],[0.5,\"#f7f7f7\"],[0.6,\"#e6f5d0\"],[0.7,\"#b8e186\"],[0.8,\"#7fbc41\"],[0.9,\"#4d9221\"],[1,\"#276419\"]]},\"xaxis\":{\"gridcolor\":\"white\",\"linecolor\":\"white\",\"ticks\":\"\",\"title\":{\"standoff\":15},\"zerolinecolor\":\"white\",\"automargin\":true,\"zerolinewidth\":2},\"yaxis\":{\"gridcolor\":\"white\",\"linecolor\":\"white\",\"ticks\":\"\",\"title\":{\"standoff\":15},\"zerolinecolor\":\"white\",\"automargin\":true,\"zerolinewidth\":2},\"scene\":{\"xaxis\":{\"backgroundcolor\":\"#E5ECF6\",\"gridcolor\":\"white\",\"linecolor\":\"white\",\"showbackground\":true,\"ticks\":\"\",\"zerolinecolor\":\"white\",\"gridwidth\":2},\"yaxis\":{\"backgroundcolor\":\"#E5ECF6\",\"gridcolor\":\"white\",\"linecolor\":\"white\",\"showbackground\":true,\"ticks\":\"\",\"zerolinecolor\":\"white\",\"gridwidth\":2},\"zaxis\":{\"backgroundcolor\":\"#E5ECF6\",\"gridcolor\":\"white\",\"linecolor\":\"white\",\"showbackground\":true,\"ticks\":\"\",\"zerolinecolor\":\"white\",\"gridwidth\":2}},\"shapedefaults\":{\"line\":{\"color\":\"#2a3f5f\"}},\"annotationdefaults\":{\"arrowcolor\":\"#2a3f5f\",\"arrowhead\":0,\"arrowwidth\":1},\"geo\":{\"bgcolor\":\"white\",\"landcolor\":\"#E5ECF6\",\"subunitcolor\":\"white\",\"showland\":true,\"showlakes\":true,\"lakecolor\":\"white\"},\"title\":{\"x\":0.05},\"mapbox\":{\"style\":\"light\"}}},\"xaxis\":{\"title\":{\"text\":\"X\"},\"scaleanchor\":\"y\",\"scaleratio\":1,\"range\":[-3,3]},\"yaxis\":{\"title\":{\"text\":\"Y\"},\"range\":[-3,3]},\"title\":{\"text\":\"Goals, Agents, Velocity, Rotations, Frames and Lines to Goals\"},\"legend\":{\"title\":{\"text\":\"Legend\"}},\"showlegend\":true},                        {\"responsive\": true}                    ).then(function(){\n",
       "                            \n",
       "var gd = document.getElementById('5ea7ad90-bc68-4cfc-bb6d-6c7e6e21a4e0');\n",
       "var x = new MutationObserver(function (mutations, observer) {{\n",
       "        var display = window.getComputedStyle(gd).display;\n",
       "        if (!display || display === 'none') {{\n",
       "            console.log([gd, 'removed!']);\n",
       "            Plotly.purge(gd);\n",
       "            observer.disconnect();\n",
       "        }}\n",
       "}});\n",
       "\n",
       "// Listen for the removal of the full notebook cells\n",
       "var notebookContainer = gd.closest('#notebook-container');\n",
       "if (notebookContainer) {{\n",
       "    x.observe(notebookContainer, {childList: true});\n",
       "}}\n",
       "\n",
       "// Listen for the clearing of the current output cell\n",
       "var outputEl = gd.closest('.output');\n",
       "if (outputEl) {{\n",
       "    x.observe(outputEl, {childList: true});\n",
       "}}\n",
       "\n",
       "                        })                };                });            </script>        </div>"
      ]
     },
     "metadata": {},
     "output_type": "display_data"
    },
    {
     "data": {
      "application/vnd.plotly.v1+json": {
       "data": [
        {
         "marker": {
          "color": "red",
          "size": 10
         },
         "mode": "markers",
         "name": "Agents",
         "x": [
          0.0,
          0.52223337,
          -1.9382808
         ],
         "y": [
          0.0,
          -3.1758828,
          -0.62812895
         ],
         "type": "scatter"
        },
        {
         "mode": "text",
         "showlegend": false,
         "text": [
          "A1"
         ],
         "textposition": "top center",
         "x": [
          0.0
         ],
         "y": [
          0.0
         ],
         "type": "scatter"
        },
        {
         "mode": "text",
         "showlegend": false,
         "text": [
          "A2"
         ],
         "textposition": "top center",
         "x": [
          0.5222333669662476
         ],
         "y": [
          -3.1758828163146973
         ],
         "type": "scatter"
        },
        {
         "mode": "text",
         "showlegend": false,
         "text": [
          "A3"
         ],
         "textposition": "top center",
         "x": [
          -1.9382808208465576
         ],
         "y": [
          -0.6281289458274841
         ],
         "type": "scatter"
        },
        {
         "marker": {
          "color": "blue",
          "size": 10
         },
         "mode": "markers",
         "name": "Goals",
         "x": [
          0.17008585,
          -0.7412777,
          -0.8517379
         ],
         "y": [
          -1.0949143,
          1.6989946,
          1.4828215
         ],
         "type": "scatter"
        },
        {
         "line": {
          "color": "green"
         },
         "mode": "lines+markers",
         "name": "Velocity 1",
         "x": [
          0.0,
          0.3104953169822693
         ],
         "y": [
          0.0,
          -0.6981199383735657
         ],
         "type": "scatter"
        },
        {
         "line": {
          "color": "purple",
          "dash": "dot"
         },
         "mode": "lines+text",
         "name": "Rotation 1",
         "text": [
          "",
          "0.00"
         ],
         "textposition": "top center",
         "x": [
          0.0,
          1.0
         ],
         "y": [
          0.0,
          0.0
         ],
         "type": "scatter"
        },
        {
         "line": {
          "color": "orange",
          "dash": "dash"
         },
         "mode": "lines",
         "name": "Agent to Goal 1",
         "x": [
          0.0,
          0.1700858473777771
         ],
         "y": [
          0.0,
          -1.0949143171310425
         ],
         "type": "scatter"
        },
        {
         "line": {
          "color": "cyan",
          "dash": "solid"
         },
         "mode": "lines",
         "name": "Frame 1 X-direction",
         "x": [
          0.0,
          1.0
         ],
         "y": [
          0.0,
          0.0
         ],
         "type": "scatter"
        },
        {
         "line": {
          "color": "magenta",
          "dash": "solid"
         },
         "mode": "lines",
         "name": "Frame 1 Y-direction",
         "x": [
          0.0,
          0.0
         ],
         "y": [
          0.0,
          1.0
         ],
         "type": "scatter"
        },
        {
         "line": {
          "color": "cyan",
          "dash": "solid"
         },
         "mode": "lines",
         "name": "Frame 2 X-direction",
         "x": [
          0.5222333669662476,
          1.433269739151001
         ],
         "y": [
          -3.1758828163146973,
          -2.763556718826294
         ],
         "type": "scatter"
        },
        {
         "line": {
          "color": "magenta",
          "dash": "solid"
         },
         "mode": "lines",
         "name": "Frame 2 Y-direction",
         "x": [
          0.5222333669662476,
          0.10990720987319946
         ],
         "y": [
          -3.1758828163146973,
          -2.2648465633392334
         ],
         "type": "scatter"
        },
        {
         "line": {
          "color": "cyan",
          "dash": "solid"
         },
         "mode": "lines",
         "name": "Frame 3 X-direction",
         "x": [
          -1.9382808208465576,
          -2.682612895965576
         ],
         "y": [
          -0.6281289458274841,
          -1.2959387302398682
         ],
         "type": "scatter"
        },
        {
         "line": {
          "color": "magenta",
          "dash": "solid"
         },
         "mode": "lines",
         "name": "Frame 3 Y-direction",
         "x": [
          -1.9382808208465576,
          -1.2704710960388184
         ],
         "y": [
          -0.6281289458274841,
          -1.372460961341858
         ],
         "type": "scatter"
        },
        {
         "line": {
          "color": "green"
         },
         "mode": "lines+markers",
         "name": "Velocity 2",
         "x": [
          0.5222333669662476,
          0.6669234037399292
         ],
         "y": [
          -3.1758828163146973,
          -4.271172523498535
         ],
         "type": "scatter"
        },
        {
         "line": {
          "color": "purple",
          "dash": "dot"
         },
         "mode": "lines+text",
         "name": "Rotation 2",
         "text": [
          "",
          "0.07"
         ],
         "textposition": "top center",
         "x": [
          0.5222333669662476,
          1.433269739151001
         ],
         "y": [
          -3.1758828163146973,
          -2.763556718826294
         ],
         "type": "scatter"
        },
        {
         "line": {
          "color": "orange",
          "dash": "dash"
         },
         "mode": "lines",
         "name": "Agent to Goal 2",
         "x": [
          0.5222333669662476,
          -0.7412776947021484
         ],
         "y": [
          -3.1758828163146973,
          1.6989946365356445
         ],
         "type": "scatter"
        },
        {
         "line": {
          "color": "cyan",
          "dash": "solid"
         },
         "mode": "lines",
         "name": "Frame 1 X-direction",
         "x": [
          0.0,
          1.0
         ],
         "y": [
          0.0,
          0.0
         ],
         "type": "scatter"
        },
        {
         "line": {
          "color": "magenta",
          "dash": "solid"
         },
         "mode": "lines",
         "name": "Frame 1 Y-direction",
         "x": [
          0.0,
          0.0
         ],
         "y": [
          0.0,
          1.0
         ],
         "type": "scatter"
        },
        {
         "line": {
          "color": "cyan",
          "dash": "solid"
         },
         "mode": "lines",
         "name": "Frame 2 X-direction",
         "x": [
          0.5222333669662476,
          1.433269739151001
         ],
         "y": [
          -3.1758828163146973,
          -2.763556718826294
         ],
         "type": "scatter"
        },
        {
         "line": {
          "color": "magenta",
          "dash": "solid"
         },
         "mode": "lines",
         "name": "Frame 2 Y-direction",
         "x": [
          0.5222333669662476,
          0.10990720987319946
         ],
         "y": [
          -3.1758828163146973,
          -2.2648465633392334
         ],
         "type": "scatter"
        },
        {
         "line": {
          "color": "cyan",
          "dash": "solid"
         },
         "mode": "lines",
         "name": "Frame 3 X-direction",
         "x": [
          -1.9382808208465576,
          -2.682612895965576
         ],
         "y": [
          -0.6281289458274841,
          -1.2959387302398682
         ],
         "type": "scatter"
        },
        {
         "line": {
          "color": "magenta",
          "dash": "solid"
         },
         "mode": "lines",
         "name": "Frame 3 Y-direction",
         "x": [
          -1.9382808208465576,
          -1.2704710960388184
         ],
         "y": [
          -0.6281289458274841,
          -1.372460961341858
         ],
         "type": "scatter"
        },
        {
         "line": {
          "color": "green"
         },
         "mode": "lines+markers",
         "name": "Velocity 3",
         "x": [
          -1.9382808208465576,
          -2.221038341522217
         ],
         "y": [
          -0.6281289458274841,
          -1.542169213294983
         ],
         "type": "scatter"
        },
        {
         "line": {
          "color": "purple",
          "dash": "dot"
         },
         "mode": "lines+text",
         "name": "Rotation 3",
         "text": [
          "",
          "0.62"
         ],
         "textposition": "top center",
         "x": [
          -1.9382808208465576,
          -2.682612895965576
         ],
         "y": [
          -0.6281289458274841,
          -1.2959387302398682
         ],
         "type": "scatter"
        },
        {
         "line": {
          "color": "orange",
          "dash": "dash"
         },
         "mode": "lines",
         "name": "Agent to Goal 3",
         "x": [
          -1.9382808208465576,
          -0.851737916469574
         ],
         "y": [
          -0.6281289458274841,
          1.4828214645385742
         ],
         "type": "scatter"
        },
        {
         "line": {
          "color": "cyan",
          "dash": "solid"
         },
         "mode": "lines",
         "name": "Frame 1 X-direction",
         "x": [
          0.0,
          1.0
         ],
         "y": [
          0.0,
          0.0
         ],
         "type": "scatter"
        },
        {
         "line": {
          "color": "magenta",
          "dash": "solid"
         },
         "mode": "lines",
         "name": "Frame 1 Y-direction",
         "x": [
          0.0,
          0.0
         ],
         "y": [
          0.0,
          1.0
         ],
         "type": "scatter"
        },
        {
         "line": {
          "color": "cyan",
          "dash": "solid"
         },
         "mode": "lines",
         "name": "Frame 2 X-direction",
         "x": [
          0.5222333669662476,
          1.433269739151001
         ],
         "y": [
          -3.1758828163146973,
          -2.763556718826294
         ],
         "type": "scatter"
        },
        {
         "line": {
          "color": "magenta",
          "dash": "solid"
         },
         "mode": "lines",
         "name": "Frame 2 Y-direction",
         "x": [
          0.5222333669662476,
          0.10990720987319946
         ],
         "y": [
          -3.1758828163146973,
          -2.2648465633392334
         ],
         "type": "scatter"
        },
        {
         "line": {
          "color": "cyan",
          "dash": "solid"
         },
         "mode": "lines",
         "name": "Frame 3 X-direction",
         "x": [
          -1.9382808208465576,
          -2.682612895965576
         ],
         "y": [
          -0.6281289458274841,
          -1.2959387302398682
         ],
         "type": "scatter"
        },
        {
         "line": {
          "color": "magenta",
          "dash": "solid"
         },
         "mode": "lines",
         "name": "Frame 3 Y-direction",
         "x": [
          -1.9382808208465576,
          -1.2704710960388184
         ],
         "y": [
          -0.6281289458274841,
          -1.372460961341858
         ],
         "type": "scatter"
        }
       ],
       "layout": {
        "template": {
         "data": {
          "histogram2dcontour": [
           {
            "type": "histogram2dcontour",
            "colorbar": {
             "outlinewidth": 0,
             "ticks": ""
            },
            "colorscale": [
             [
              0.0,
              "#0d0887"
             ],
             [
              0.1111111111111111,
              "#46039f"
             ],
             [
              0.2222222222222222,
              "#7201a8"
             ],
             [
              0.3333333333333333,
              "#9c179e"
             ],
             [
              0.4444444444444444,
              "#bd3786"
             ],
             [
              0.5555555555555556,
              "#d8576b"
             ],
             [
              0.6666666666666666,
              "#ed7953"
             ],
             [
              0.7777777777777778,
              "#fb9f3a"
             ],
             [
              0.8888888888888888,
              "#fdca26"
             ],
             [
              1.0,
              "#f0f921"
             ]
            ]
           }
          ],
          "choropleth": [
           {
            "type": "choropleth",
            "colorbar": {
             "outlinewidth": 0,
             "ticks": ""
            }
           }
          ],
          "histogram2d": [
           {
            "type": "histogram2d",
            "colorbar": {
             "outlinewidth": 0,
             "ticks": ""
            },
            "colorscale": [
             [
              0.0,
              "#0d0887"
             ],
             [
              0.1111111111111111,
              "#46039f"
             ],
             [
              0.2222222222222222,
              "#7201a8"
             ],
             [
              0.3333333333333333,
              "#9c179e"
             ],
             [
              0.4444444444444444,
              "#bd3786"
             ],
             [
              0.5555555555555556,
              "#d8576b"
             ],
             [
              0.6666666666666666,
              "#ed7953"
             ],
             [
              0.7777777777777778,
              "#fb9f3a"
             ],
             [
              0.8888888888888888,
              "#fdca26"
             ],
             [
              1.0,
              "#f0f921"
             ]
            ]
           }
          ],
          "heatmap": [
           {
            "type": "heatmap",
            "colorbar": {
             "outlinewidth": 0,
             "ticks": ""
            },
            "colorscale": [
             [
              0.0,
              "#0d0887"
             ],
             [
              0.1111111111111111,
              "#46039f"
             ],
             [
              0.2222222222222222,
              "#7201a8"
             ],
             [
              0.3333333333333333,
              "#9c179e"
             ],
             [
              0.4444444444444444,
              "#bd3786"
             ],
             [
              0.5555555555555556,
              "#d8576b"
             ],
             [
              0.6666666666666666,
              "#ed7953"
             ],
             [
              0.7777777777777778,
              "#fb9f3a"
             ],
             [
              0.8888888888888888,
              "#fdca26"
             ],
             [
              1.0,
              "#f0f921"
             ]
            ]
           }
          ],
          "heatmapgl": [
           {
            "type": "heatmapgl",
            "colorbar": {
             "outlinewidth": 0,
             "ticks": ""
            },
            "colorscale": [
             [
              0.0,
              "#0d0887"
             ],
             [
              0.1111111111111111,
              "#46039f"
             ],
             [
              0.2222222222222222,
              "#7201a8"
             ],
             [
              0.3333333333333333,
              "#9c179e"
             ],
             [
              0.4444444444444444,
              "#bd3786"
             ],
             [
              0.5555555555555556,
              "#d8576b"
             ],
             [
              0.6666666666666666,
              "#ed7953"
             ],
             [
              0.7777777777777778,
              "#fb9f3a"
             ],
             [
              0.8888888888888888,
              "#fdca26"
             ],
             [
              1.0,
              "#f0f921"
             ]
            ]
           }
          ],
          "contourcarpet": [
           {
            "type": "contourcarpet",
            "colorbar": {
             "outlinewidth": 0,
             "ticks": ""
            }
           }
          ],
          "contour": [
           {
            "type": "contour",
            "colorbar": {
             "outlinewidth": 0,
             "ticks": ""
            },
            "colorscale": [
             [
              0.0,
              "#0d0887"
             ],
             [
              0.1111111111111111,
              "#46039f"
             ],
             [
              0.2222222222222222,
              "#7201a8"
             ],
             [
              0.3333333333333333,
              "#9c179e"
             ],
             [
              0.4444444444444444,
              "#bd3786"
             ],
             [
              0.5555555555555556,
              "#d8576b"
             ],
             [
              0.6666666666666666,
              "#ed7953"
             ],
             [
              0.7777777777777778,
              "#fb9f3a"
             ],
             [
              0.8888888888888888,
              "#fdca26"
             ],
             [
              1.0,
              "#f0f921"
             ]
            ]
           }
          ],
          "surface": [
           {
            "type": "surface",
            "colorbar": {
             "outlinewidth": 0,
             "ticks": ""
            },
            "colorscale": [
             [
              0.0,
              "#0d0887"
             ],
             [
              0.1111111111111111,
              "#46039f"
             ],
             [
              0.2222222222222222,
              "#7201a8"
             ],
             [
              0.3333333333333333,
              "#9c179e"
             ],
             [
              0.4444444444444444,
              "#bd3786"
             ],
             [
              0.5555555555555556,
              "#d8576b"
             ],
             [
              0.6666666666666666,
              "#ed7953"
             ],
             [
              0.7777777777777778,
              "#fb9f3a"
             ],
             [
              0.8888888888888888,
              "#fdca26"
             ],
             [
              1.0,
              "#f0f921"
             ]
            ]
           }
          ],
          "mesh3d": [
           {
            "type": "mesh3d",
            "colorbar": {
             "outlinewidth": 0,
             "ticks": ""
            }
           }
          ],
          "scatter": [
           {
            "fillpattern": {
             "fillmode": "overlay",
             "size": 10,
             "solidity": 0.2
            },
            "type": "scatter"
           }
          ],
          "parcoords": [
           {
            "type": "parcoords",
            "line": {
             "colorbar": {
              "outlinewidth": 0,
              "ticks": ""
             }
            }
           }
          ],
          "scatterpolargl": [
           {
            "type": "scatterpolargl",
            "marker": {
             "colorbar": {
              "outlinewidth": 0,
              "ticks": ""
             }
            }
           }
          ],
          "bar": [
           {
            "error_x": {
             "color": "#2a3f5f"
            },
            "error_y": {
             "color": "#2a3f5f"
            },
            "marker": {
             "line": {
              "color": "#E5ECF6",
              "width": 0.5
             },
             "pattern": {
              "fillmode": "overlay",
              "size": 10,
              "solidity": 0.2
             }
            },
            "type": "bar"
           }
          ],
          "scattergeo": [
           {
            "type": "scattergeo",
            "marker": {
             "colorbar": {
              "outlinewidth": 0,
              "ticks": ""
             }
            }
           }
          ],
          "scatterpolar": [
           {
            "type": "scatterpolar",
            "marker": {
             "colorbar": {
              "outlinewidth": 0,
              "ticks": ""
             }
            }
           }
          ],
          "histogram": [
           {
            "marker": {
             "pattern": {
              "fillmode": "overlay",
              "size": 10,
              "solidity": 0.2
             }
            },
            "type": "histogram"
           }
          ],
          "scattergl": [
           {
            "type": "scattergl",
            "marker": {
             "colorbar": {
              "outlinewidth": 0,
              "ticks": ""
             }
            }
           }
          ],
          "scatter3d": [
           {
            "type": "scatter3d",
            "line": {
             "colorbar": {
              "outlinewidth": 0,
              "ticks": ""
             }
            },
            "marker": {
             "colorbar": {
              "outlinewidth": 0,
              "ticks": ""
             }
            }
           }
          ],
          "scattermapbox": [
           {
            "type": "scattermapbox",
            "marker": {
             "colorbar": {
              "outlinewidth": 0,
              "ticks": ""
             }
            }
           }
          ],
          "scatterternary": [
           {
            "type": "scatterternary",
            "marker": {
             "colorbar": {
              "outlinewidth": 0,
              "ticks": ""
             }
            }
           }
          ],
          "scattercarpet": [
           {
            "type": "scattercarpet",
            "marker": {
             "colorbar": {
              "outlinewidth": 0,
              "ticks": ""
             }
            }
           }
          ],
          "carpet": [
           {
            "aaxis": {
             "endlinecolor": "#2a3f5f",
             "gridcolor": "white",
             "linecolor": "white",
             "minorgridcolor": "white",
             "startlinecolor": "#2a3f5f"
            },
            "baxis": {
             "endlinecolor": "#2a3f5f",
             "gridcolor": "white",
             "linecolor": "white",
             "minorgridcolor": "white",
             "startlinecolor": "#2a3f5f"
            },
            "type": "carpet"
           }
          ],
          "table": [
           {
            "cells": {
             "fill": {
              "color": "#EBF0F8"
             },
             "line": {
              "color": "white"
             }
            },
            "header": {
             "fill": {
              "color": "#C8D4E3"
             },
             "line": {
              "color": "white"
             }
            },
            "type": "table"
           }
          ],
          "barpolar": [
           {
            "marker": {
             "line": {
              "color": "#E5ECF6",
              "width": 0.5
             },
             "pattern": {
              "fillmode": "overlay",
              "size": 10,
              "solidity": 0.2
             }
            },
            "type": "barpolar"
           }
          ],
          "pie": [
           {
            "automargin": true,
            "type": "pie"
           }
          ]
         },
         "layout": {
          "autotypenumbers": "strict",
          "colorway": [
           "#636efa",
           "#EF553B",
           "#00cc96",
           "#ab63fa",
           "#FFA15A",
           "#19d3f3",
           "#FF6692",
           "#B6E880",
           "#FF97FF",
           "#FECB52"
          ],
          "font": {
           "color": "#2a3f5f"
          },
          "hovermode": "closest",
          "hoverlabel": {
           "align": "left"
          },
          "paper_bgcolor": "white",
          "plot_bgcolor": "#E5ECF6",
          "polar": {
           "bgcolor": "#E5ECF6",
           "angularaxis": {
            "gridcolor": "white",
            "linecolor": "white",
            "ticks": ""
           },
           "radialaxis": {
            "gridcolor": "white",
            "linecolor": "white",
            "ticks": ""
           }
          },
          "ternary": {
           "bgcolor": "#E5ECF6",
           "aaxis": {
            "gridcolor": "white",
            "linecolor": "white",
            "ticks": ""
           },
           "baxis": {
            "gridcolor": "white",
            "linecolor": "white",
            "ticks": ""
           },
           "caxis": {
            "gridcolor": "white",
            "linecolor": "white",
            "ticks": ""
           }
          },
          "coloraxis": {
           "colorbar": {
            "outlinewidth": 0,
            "ticks": ""
           }
          },
          "colorscale": {
           "sequential": [
            [
             0.0,
             "#0d0887"
            ],
            [
             0.1111111111111111,
             "#46039f"
            ],
            [
             0.2222222222222222,
             "#7201a8"
            ],
            [
             0.3333333333333333,
             "#9c179e"
            ],
            [
             0.4444444444444444,
             "#bd3786"
            ],
            [
             0.5555555555555556,
             "#d8576b"
            ],
            [
             0.6666666666666666,
             "#ed7953"
            ],
            [
             0.7777777777777778,
             "#fb9f3a"
            ],
            [
             0.8888888888888888,
             "#fdca26"
            ],
            [
             1.0,
             "#f0f921"
            ]
           ],
           "sequentialminus": [
            [
             0.0,
             "#0d0887"
            ],
            [
             0.1111111111111111,
             "#46039f"
            ],
            [
             0.2222222222222222,
             "#7201a8"
            ],
            [
             0.3333333333333333,
             "#9c179e"
            ],
            [
             0.4444444444444444,
             "#bd3786"
            ],
            [
             0.5555555555555556,
             "#d8576b"
            ],
            [
             0.6666666666666666,
             "#ed7953"
            ],
            [
             0.7777777777777778,
             "#fb9f3a"
            ],
            [
             0.8888888888888888,
             "#fdca26"
            ],
            [
             1.0,
             "#f0f921"
            ]
           ],
           "diverging": [
            [
             0,
             "#8e0152"
            ],
            [
             0.1,
             "#c51b7d"
            ],
            [
             0.2,
             "#de77ae"
            ],
            [
             0.3,
             "#f1b6da"
            ],
            [
             0.4,
             "#fde0ef"
            ],
            [
             0.5,
             "#f7f7f7"
            ],
            [
             0.6,
             "#e6f5d0"
            ],
            [
             0.7,
             "#b8e186"
            ],
            [
             0.8,
             "#7fbc41"
            ],
            [
             0.9,
             "#4d9221"
            ],
            [
             1,
             "#276419"
            ]
           ]
          },
          "xaxis": {
           "gridcolor": "white",
           "linecolor": "white",
           "ticks": "",
           "title": {
            "standoff": 15
           },
           "zerolinecolor": "white",
           "automargin": true,
           "zerolinewidth": 2
          },
          "yaxis": {
           "gridcolor": "white",
           "linecolor": "white",
           "ticks": "",
           "title": {
            "standoff": 15
           },
           "zerolinecolor": "white",
           "automargin": true,
           "zerolinewidth": 2
          },
          "scene": {
           "xaxis": {
            "backgroundcolor": "#E5ECF6",
            "gridcolor": "white",
            "linecolor": "white",
            "showbackground": true,
            "ticks": "",
            "zerolinecolor": "white",
            "gridwidth": 2
           },
           "yaxis": {
            "backgroundcolor": "#E5ECF6",
            "gridcolor": "white",
            "linecolor": "white",
            "showbackground": true,
            "ticks": "",
            "zerolinecolor": "white",
            "gridwidth": 2
           },
           "zaxis": {
            "backgroundcolor": "#E5ECF6",
            "gridcolor": "white",
            "linecolor": "white",
            "showbackground": true,
            "ticks": "",
            "zerolinecolor": "white",
            "gridwidth": 2
           }
          },
          "shapedefaults": {
           "line": {
            "color": "#2a3f5f"
           }
          },
          "annotationdefaults": {
           "arrowcolor": "#2a3f5f",
           "arrowhead": 0,
           "arrowwidth": 1
          },
          "geo": {
           "bgcolor": "white",
           "landcolor": "#E5ECF6",
           "subunitcolor": "white",
           "showland": true,
           "showlakes": true,
           "lakecolor": "white"
          },
          "title": {
           "x": 0.05
          },
          "mapbox": {
           "style": "light"
          }
         }
        },
        "xaxis": {
         "title": {
          "text": "X"
         },
         "scaleanchor": "y",
         "scaleratio": 1,
         "range": [
          -3,
          3
         ]
        },
        "yaxis": {
         "title": {
          "text": "Y"
         },
         "range": [
          -3,
          3
         ]
        },
        "title": {
         "text": "Goals, Agents, Velocity, Rotations, Frames and Lines to Goals"
        },
        "legend": {
         "title": {
          "text": "Legend"
         }
        },
        "showlegend": true
       },
       "config": {
        "plotlyServerURL": "https://plot.ly"
       }
      },
      "text/html": [
       "<div>                            <div id=\"14497101-d573-4f19-b416-52d62ac462de\" class=\"plotly-graph-div\" style=\"height:525px; width:100%;\"></div>            <script type=\"text/javascript\">                require([\"plotly\"], function(Plotly) {                    window.PLOTLYENV=window.PLOTLYENV || {};                                    if (document.getElementById(\"14497101-d573-4f19-b416-52d62ac462de\")) {                    Plotly.newPlot(                        \"14497101-d573-4f19-b416-52d62ac462de\",                        [{\"marker\":{\"color\":\"red\",\"size\":10},\"mode\":\"markers\",\"name\":\"Agents\",\"x\":[0.0,0.52223337,-1.9382808],\"y\":[0.0,-3.1758828,-0.62812895],\"type\":\"scatter\"},{\"mode\":\"text\",\"showlegend\":false,\"text\":[\"A1\"],\"textposition\":\"top center\",\"x\":[0.0],\"y\":[0.0],\"type\":\"scatter\"},{\"mode\":\"text\",\"showlegend\":false,\"text\":[\"A2\"],\"textposition\":\"top center\",\"x\":[0.5222333669662476],\"y\":[-3.1758828163146973],\"type\":\"scatter\"},{\"mode\":\"text\",\"showlegend\":false,\"text\":[\"A3\"],\"textposition\":\"top center\",\"x\":[-1.9382808208465576],\"y\":[-0.6281289458274841],\"type\":\"scatter\"},{\"marker\":{\"color\":\"blue\",\"size\":10},\"mode\":\"markers\",\"name\":\"Goals\",\"x\":[0.17008585,-0.7412777,-0.8517379],\"y\":[-1.0949143,1.6989946,1.4828215],\"type\":\"scatter\"},{\"line\":{\"color\":\"green\"},\"mode\":\"lines+markers\",\"name\":\"Velocity 1\",\"x\":[0.0,0.3104953169822693],\"y\":[0.0,-0.6981199383735657],\"type\":\"scatter\"},{\"line\":{\"color\":\"purple\",\"dash\":\"dot\"},\"mode\":\"lines+text\",\"name\":\"Rotation 1\",\"text\":[\"\",\"0.00\"],\"textposition\":\"top center\",\"x\":[0.0,1.0],\"y\":[0.0,0.0],\"type\":\"scatter\"},{\"line\":{\"color\":\"orange\",\"dash\":\"dash\"},\"mode\":\"lines\",\"name\":\"Agent to Goal 1\",\"x\":[0.0,0.1700858473777771],\"y\":[0.0,-1.0949143171310425],\"type\":\"scatter\"},{\"line\":{\"color\":\"cyan\",\"dash\":\"solid\"},\"mode\":\"lines\",\"name\":\"Frame 1 X-direction\",\"x\":[0.0,1.0],\"y\":[0.0,0.0],\"type\":\"scatter\"},{\"line\":{\"color\":\"magenta\",\"dash\":\"solid\"},\"mode\":\"lines\",\"name\":\"Frame 1 Y-direction\",\"x\":[0.0,0.0],\"y\":[0.0,1.0],\"type\":\"scatter\"},{\"line\":{\"color\":\"cyan\",\"dash\":\"solid\"},\"mode\":\"lines\",\"name\":\"Frame 2 X-direction\",\"x\":[0.5222333669662476,1.433269739151001],\"y\":[-3.1758828163146973,-2.763556718826294],\"type\":\"scatter\"},{\"line\":{\"color\":\"magenta\",\"dash\":\"solid\"},\"mode\":\"lines\",\"name\":\"Frame 2 Y-direction\",\"x\":[0.5222333669662476,0.10990720987319946],\"y\":[-3.1758828163146973,-2.2648465633392334],\"type\":\"scatter\"},{\"line\":{\"color\":\"cyan\",\"dash\":\"solid\"},\"mode\":\"lines\",\"name\":\"Frame 3 X-direction\",\"x\":[-1.9382808208465576,-2.682612895965576],\"y\":[-0.6281289458274841,-1.2959387302398682],\"type\":\"scatter\"},{\"line\":{\"color\":\"magenta\",\"dash\":\"solid\"},\"mode\":\"lines\",\"name\":\"Frame 3 Y-direction\",\"x\":[-1.9382808208465576,-1.2704710960388184],\"y\":[-0.6281289458274841,-1.372460961341858],\"type\":\"scatter\"},{\"line\":{\"color\":\"green\"},\"mode\":\"lines+markers\",\"name\":\"Velocity 2\",\"x\":[0.5222333669662476,0.6669234037399292],\"y\":[-3.1758828163146973,-4.271172523498535],\"type\":\"scatter\"},{\"line\":{\"color\":\"purple\",\"dash\":\"dot\"},\"mode\":\"lines+text\",\"name\":\"Rotation 2\",\"text\":[\"\",\"0.07\"],\"textposition\":\"top center\",\"x\":[0.5222333669662476,1.433269739151001],\"y\":[-3.1758828163146973,-2.763556718826294],\"type\":\"scatter\"},{\"line\":{\"color\":\"orange\",\"dash\":\"dash\"},\"mode\":\"lines\",\"name\":\"Agent to Goal 2\",\"x\":[0.5222333669662476,-0.7412776947021484],\"y\":[-3.1758828163146973,1.6989946365356445],\"type\":\"scatter\"},{\"line\":{\"color\":\"cyan\",\"dash\":\"solid\"},\"mode\":\"lines\",\"name\":\"Frame 1 X-direction\",\"x\":[0.0,1.0],\"y\":[0.0,0.0],\"type\":\"scatter\"},{\"line\":{\"color\":\"magenta\",\"dash\":\"solid\"},\"mode\":\"lines\",\"name\":\"Frame 1 Y-direction\",\"x\":[0.0,0.0],\"y\":[0.0,1.0],\"type\":\"scatter\"},{\"line\":{\"color\":\"cyan\",\"dash\":\"solid\"},\"mode\":\"lines\",\"name\":\"Frame 2 X-direction\",\"x\":[0.5222333669662476,1.433269739151001],\"y\":[-3.1758828163146973,-2.763556718826294],\"type\":\"scatter\"},{\"line\":{\"color\":\"magenta\",\"dash\":\"solid\"},\"mode\":\"lines\",\"name\":\"Frame 2 Y-direction\",\"x\":[0.5222333669662476,0.10990720987319946],\"y\":[-3.1758828163146973,-2.2648465633392334],\"type\":\"scatter\"},{\"line\":{\"color\":\"cyan\",\"dash\":\"solid\"},\"mode\":\"lines\",\"name\":\"Frame 3 X-direction\",\"x\":[-1.9382808208465576,-2.682612895965576],\"y\":[-0.6281289458274841,-1.2959387302398682],\"type\":\"scatter\"},{\"line\":{\"color\":\"magenta\",\"dash\":\"solid\"},\"mode\":\"lines\",\"name\":\"Frame 3 Y-direction\",\"x\":[-1.9382808208465576,-1.2704710960388184],\"y\":[-0.6281289458274841,-1.372460961341858],\"type\":\"scatter\"},{\"line\":{\"color\":\"green\"},\"mode\":\"lines+markers\",\"name\":\"Velocity 3\",\"x\":[-1.9382808208465576,-2.221038341522217],\"y\":[-0.6281289458274841,-1.542169213294983],\"type\":\"scatter\"},{\"line\":{\"color\":\"purple\",\"dash\":\"dot\"},\"mode\":\"lines+text\",\"name\":\"Rotation 3\",\"text\":[\"\",\"0.62\"],\"textposition\":\"top center\",\"x\":[-1.9382808208465576,-2.682612895965576],\"y\":[-0.6281289458274841,-1.2959387302398682],\"type\":\"scatter\"},{\"line\":{\"color\":\"orange\",\"dash\":\"dash\"},\"mode\":\"lines\",\"name\":\"Agent to Goal 3\",\"x\":[-1.9382808208465576,-0.851737916469574],\"y\":[-0.6281289458274841,1.4828214645385742],\"type\":\"scatter\"},{\"line\":{\"color\":\"cyan\",\"dash\":\"solid\"},\"mode\":\"lines\",\"name\":\"Frame 1 X-direction\",\"x\":[0.0,1.0],\"y\":[0.0,0.0],\"type\":\"scatter\"},{\"line\":{\"color\":\"magenta\",\"dash\":\"solid\"},\"mode\":\"lines\",\"name\":\"Frame 1 Y-direction\",\"x\":[0.0,0.0],\"y\":[0.0,1.0],\"type\":\"scatter\"},{\"line\":{\"color\":\"cyan\",\"dash\":\"solid\"},\"mode\":\"lines\",\"name\":\"Frame 2 X-direction\",\"x\":[0.5222333669662476,1.433269739151001],\"y\":[-3.1758828163146973,-2.763556718826294],\"type\":\"scatter\"},{\"line\":{\"color\":\"magenta\",\"dash\":\"solid\"},\"mode\":\"lines\",\"name\":\"Frame 2 Y-direction\",\"x\":[0.5222333669662476,0.10990720987319946],\"y\":[-3.1758828163146973,-2.2648465633392334],\"type\":\"scatter\"},{\"line\":{\"color\":\"cyan\",\"dash\":\"solid\"},\"mode\":\"lines\",\"name\":\"Frame 3 X-direction\",\"x\":[-1.9382808208465576,-2.682612895965576],\"y\":[-0.6281289458274841,-1.2959387302398682],\"type\":\"scatter\"},{\"line\":{\"color\":\"magenta\",\"dash\":\"solid\"},\"mode\":\"lines\",\"name\":\"Frame 3 Y-direction\",\"x\":[-1.9382808208465576,-1.2704710960388184],\"y\":[-0.6281289458274841,-1.372460961341858],\"type\":\"scatter\"}],                        {\"template\":{\"data\":{\"histogram2dcontour\":[{\"type\":\"histogram2dcontour\",\"colorbar\":{\"outlinewidth\":0,\"ticks\":\"\"},\"colorscale\":[[0.0,\"#0d0887\"],[0.1111111111111111,\"#46039f\"],[0.2222222222222222,\"#7201a8\"],[0.3333333333333333,\"#9c179e\"],[0.4444444444444444,\"#bd3786\"],[0.5555555555555556,\"#d8576b\"],[0.6666666666666666,\"#ed7953\"],[0.7777777777777778,\"#fb9f3a\"],[0.8888888888888888,\"#fdca26\"],[1.0,\"#f0f921\"]]}],\"choropleth\":[{\"type\":\"choropleth\",\"colorbar\":{\"outlinewidth\":0,\"ticks\":\"\"}}],\"histogram2d\":[{\"type\":\"histogram2d\",\"colorbar\":{\"outlinewidth\":0,\"ticks\":\"\"},\"colorscale\":[[0.0,\"#0d0887\"],[0.1111111111111111,\"#46039f\"],[0.2222222222222222,\"#7201a8\"],[0.3333333333333333,\"#9c179e\"],[0.4444444444444444,\"#bd3786\"],[0.5555555555555556,\"#d8576b\"],[0.6666666666666666,\"#ed7953\"],[0.7777777777777778,\"#fb9f3a\"],[0.8888888888888888,\"#fdca26\"],[1.0,\"#f0f921\"]]}],\"heatmap\":[{\"type\":\"heatmap\",\"colorbar\":{\"outlinewidth\":0,\"ticks\":\"\"},\"colorscale\":[[0.0,\"#0d0887\"],[0.1111111111111111,\"#46039f\"],[0.2222222222222222,\"#7201a8\"],[0.3333333333333333,\"#9c179e\"],[0.4444444444444444,\"#bd3786\"],[0.5555555555555556,\"#d8576b\"],[0.6666666666666666,\"#ed7953\"],[0.7777777777777778,\"#fb9f3a\"],[0.8888888888888888,\"#fdca26\"],[1.0,\"#f0f921\"]]}],\"heatmapgl\":[{\"type\":\"heatmapgl\",\"colorbar\":{\"outlinewidth\":0,\"ticks\":\"\"},\"colorscale\":[[0.0,\"#0d0887\"],[0.1111111111111111,\"#46039f\"],[0.2222222222222222,\"#7201a8\"],[0.3333333333333333,\"#9c179e\"],[0.4444444444444444,\"#bd3786\"],[0.5555555555555556,\"#d8576b\"],[0.6666666666666666,\"#ed7953\"],[0.7777777777777778,\"#fb9f3a\"],[0.8888888888888888,\"#fdca26\"],[1.0,\"#f0f921\"]]}],\"contourcarpet\":[{\"type\":\"contourcarpet\",\"colorbar\":{\"outlinewidth\":0,\"ticks\":\"\"}}],\"contour\":[{\"type\":\"contour\",\"colorbar\":{\"outlinewidth\":0,\"ticks\":\"\"},\"colorscale\":[[0.0,\"#0d0887\"],[0.1111111111111111,\"#46039f\"],[0.2222222222222222,\"#7201a8\"],[0.3333333333333333,\"#9c179e\"],[0.4444444444444444,\"#bd3786\"],[0.5555555555555556,\"#d8576b\"],[0.6666666666666666,\"#ed7953\"],[0.7777777777777778,\"#fb9f3a\"],[0.8888888888888888,\"#fdca26\"],[1.0,\"#f0f921\"]]}],\"surface\":[{\"type\":\"surface\",\"colorbar\":{\"outlinewidth\":0,\"ticks\":\"\"},\"colorscale\":[[0.0,\"#0d0887\"],[0.1111111111111111,\"#46039f\"],[0.2222222222222222,\"#7201a8\"],[0.3333333333333333,\"#9c179e\"],[0.4444444444444444,\"#bd3786\"],[0.5555555555555556,\"#d8576b\"],[0.6666666666666666,\"#ed7953\"],[0.7777777777777778,\"#fb9f3a\"],[0.8888888888888888,\"#fdca26\"],[1.0,\"#f0f921\"]]}],\"mesh3d\":[{\"type\":\"mesh3d\",\"colorbar\":{\"outlinewidth\":0,\"ticks\":\"\"}}],\"scatter\":[{\"fillpattern\":{\"fillmode\":\"overlay\",\"size\":10,\"solidity\":0.2},\"type\":\"scatter\"}],\"parcoords\":[{\"type\":\"parcoords\",\"line\":{\"colorbar\":{\"outlinewidth\":0,\"ticks\":\"\"}}}],\"scatterpolargl\":[{\"type\":\"scatterpolargl\",\"marker\":{\"colorbar\":{\"outlinewidth\":0,\"ticks\":\"\"}}}],\"bar\":[{\"error_x\":{\"color\":\"#2a3f5f\"},\"error_y\":{\"color\":\"#2a3f5f\"},\"marker\":{\"line\":{\"color\":\"#E5ECF6\",\"width\":0.5},\"pattern\":{\"fillmode\":\"overlay\",\"size\":10,\"solidity\":0.2}},\"type\":\"bar\"}],\"scattergeo\":[{\"type\":\"scattergeo\",\"marker\":{\"colorbar\":{\"outlinewidth\":0,\"ticks\":\"\"}}}],\"scatterpolar\":[{\"type\":\"scatterpolar\",\"marker\":{\"colorbar\":{\"outlinewidth\":0,\"ticks\":\"\"}}}],\"histogram\":[{\"marker\":{\"pattern\":{\"fillmode\":\"overlay\",\"size\":10,\"solidity\":0.2}},\"type\":\"histogram\"}],\"scattergl\":[{\"type\":\"scattergl\",\"marker\":{\"colorbar\":{\"outlinewidth\":0,\"ticks\":\"\"}}}],\"scatter3d\":[{\"type\":\"scatter3d\",\"line\":{\"colorbar\":{\"outlinewidth\":0,\"ticks\":\"\"}},\"marker\":{\"colorbar\":{\"outlinewidth\":0,\"ticks\":\"\"}}}],\"scattermapbox\":[{\"type\":\"scattermapbox\",\"marker\":{\"colorbar\":{\"outlinewidth\":0,\"ticks\":\"\"}}}],\"scatterternary\":[{\"type\":\"scatterternary\",\"marker\":{\"colorbar\":{\"outlinewidth\":0,\"ticks\":\"\"}}}],\"scattercarpet\":[{\"type\":\"scattercarpet\",\"marker\":{\"colorbar\":{\"outlinewidth\":0,\"ticks\":\"\"}}}],\"carpet\":[{\"aaxis\":{\"endlinecolor\":\"#2a3f5f\",\"gridcolor\":\"white\",\"linecolor\":\"white\",\"minorgridcolor\":\"white\",\"startlinecolor\":\"#2a3f5f\"},\"baxis\":{\"endlinecolor\":\"#2a3f5f\",\"gridcolor\":\"white\",\"linecolor\":\"white\",\"minorgridcolor\":\"white\",\"startlinecolor\":\"#2a3f5f\"},\"type\":\"carpet\"}],\"table\":[{\"cells\":{\"fill\":{\"color\":\"#EBF0F8\"},\"line\":{\"color\":\"white\"}},\"header\":{\"fill\":{\"color\":\"#C8D4E3\"},\"line\":{\"color\":\"white\"}},\"type\":\"table\"}],\"barpolar\":[{\"marker\":{\"line\":{\"color\":\"#E5ECF6\",\"width\":0.5},\"pattern\":{\"fillmode\":\"overlay\",\"size\":10,\"solidity\":0.2}},\"type\":\"barpolar\"}],\"pie\":[{\"automargin\":true,\"type\":\"pie\"}]},\"layout\":{\"autotypenumbers\":\"strict\",\"colorway\":[\"#636efa\",\"#EF553B\",\"#00cc96\",\"#ab63fa\",\"#FFA15A\",\"#19d3f3\",\"#FF6692\",\"#B6E880\",\"#FF97FF\",\"#FECB52\"],\"font\":{\"color\":\"#2a3f5f\"},\"hovermode\":\"closest\",\"hoverlabel\":{\"align\":\"left\"},\"paper_bgcolor\":\"white\",\"plot_bgcolor\":\"#E5ECF6\",\"polar\":{\"bgcolor\":\"#E5ECF6\",\"angularaxis\":{\"gridcolor\":\"white\",\"linecolor\":\"white\",\"ticks\":\"\"},\"radialaxis\":{\"gridcolor\":\"white\",\"linecolor\":\"white\",\"ticks\":\"\"}},\"ternary\":{\"bgcolor\":\"#E5ECF6\",\"aaxis\":{\"gridcolor\":\"white\",\"linecolor\":\"white\",\"ticks\":\"\"},\"baxis\":{\"gridcolor\":\"white\",\"linecolor\":\"white\",\"ticks\":\"\"},\"caxis\":{\"gridcolor\":\"white\",\"linecolor\":\"white\",\"ticks\":\"\"}},\"coloraxis\":{\"colorbar\":{\"outlinewidth\":0,\"ticks\":\"\"}},\"colorscale\":{\"sequential\":[[0.0,\"#0d0887\"],[0.1111111111111111,\"#46039f\"],[0.2222222222222222,\"#7201a8\"],[0.3333333333333333,\"#9c179e\"],[0.4444444444444444,\"#bd3786\"],[0.5555555555555556,\"#d8576b\"],[0.6666666666666666,\"#ed7953\"],[0.7777777777777778,\"#fb9f3a\"],[0.8888888888888888,\"#fdca26\"],[1.0,\"#f0f921\"]],\"sequentialminus\":[[0.0,\"#0d0887\"],[0.1111111111111111,\"#46039f\"],[0.2222222222222222,\"#7201a8\"],[0.3333333333333333,\"#9c179e\"],[0.4444444444444444,\"#bd3786\"],[0.5555555555555556,\"#d8576b\"],[0.6666666666666666,\"#ed7953\"],[0.7777777777777778,\"#fb9f3a\"],[0.8888888888888888,\"#fdca26\"],[1.0,\"#f0f921\"]],\"diverging\":[[0,\"#8e0152\"],[0.1,\"#c51b7d\"],[0.2,\"#de77ae\"],[0.3,\"#f1b6da\"],[0.4,\"#fde0ef\"],[0.5,\"#f7f7f7\"],[0.6,\"#e6f5d0\"],[0.7,\"#b8e186\"],[0.8,\"#7fbc41\"],[0.9,\"#4d9221\"],[1,\"#276419\"]]},\"xaxis\":{\"gridcolor\":\"white\",\"linecolor\":\"white\",\"ticks\":\"\",\"title\":{\"standoff\":15},\"zerolinecolor\":\"white\",\"automargin\":true,\"zerolinewidth\":2},\"yaxis\":{\"gridcolor\":\"white\",\"linecolor\":\"white\",\"ticks\":\"\",\"title\":{\"standoff\":15},\"zerolinecolor\":\"white\",\"automargin\":true,\"zerolinewidth\":2},\"scene\":{\"xaxis\":{\"backgroundcolor\":\"#E5ECF6\",\"gridcolor\":\"white\",\"linecolor\":\"white\",\"showbackground\":true,\"ticks\":\"\",\"zerolinecolor\":\"white\",\"gridwidth\":2},\"yaxis\":{\"backgroundcolor\":\"#E5ECF6\",\"gridcolor\":\"white\",\"linecolor\":\"white\",\"showbackground\":true,\"ticks\":\"\",\"zerolinecolor\":\"white\",\"gridwidth\":2},\"zaxis\":{\"backgroundcolor\":\"#E5ECF6\",\"gridcolor\":\"white\",\"linecolor\":\"white\",\"showbackground\":true,\"ticks\":\"\",\"zerolinecolor\":\"white\",\"gridwidth\":2}},\"shapedefaults\":{\"line\":{\"color\":\"#2a3f5f\"}},\"annotationdefaults\":{\"arrowcolor\":\"#2a3f5f\",\"arrowhead\":0,\"arrowwidth\":1},\"geo\":{\"bgcolor\":\"white\",\"landcolor\":\"#E5ECF6\",\"subunitcolor\":\"white\",\"showland\":true,\"showlakes\":true,\"lakecolor\":\"white\"},\"title\":{\"x\":0.05},\"mapbox\":{\"style\":\"light\"}}},\"xaxis\":{\"title\":{\"text\":\"X\"},\"scaleanchor\":\"y\",\"scaleratio\":1,\"range\":[-3,3]},\"yaxis\":{\"title\":{\"text\":\"Y\"},\"range\":[-3,3]},\"title\":{\"text\":\"Goals, Agents, Velocity, Rotations, Frames and Lines to Goals\"},\"legend\":{\"title\":{\"text\":\"Legend\"}},\"showlegend\":true},                        {\"responsive\": true}                    ).then(function(){\n",
       "                            \n",
       "var gd = document.getElementById('14497101-d573-4f19-b416-52d62ac462de');\n",
       "var x = new MutationObserver(function (mutations, observer) {{\n",
       "        var display = window.getComputedStyle(gd).display;\n",
       "        if (!display || display === 'none') {{\n",
       "            console.log([gd, 'removed!']);\n",
       "            Plotly.purge(gd);\n",
       "            observer.disconnect();\n",
       "        }}\n",
       "}});\n",
       "\n",
       "// Listen for the removal of the full notebook cells\n",
       "var notebookContainer = gd.closest('#notebook-container');\n",
       "if (notebookContainer) {{\n",
       "    x.observe(notebookContainer, {childList: true});\n",
       "}}\n",
       "\n",
       "// Listen for the clearing of the current output cell\n",
       "var outputEl = gd.closest('.output');\n",
       "if (outputEl) {{\n",
       "    x.observe(outputEl, {childList: true});\n",
       "}}\n",
       "\n",
       "                        })                };                });            </script>        </div>"
      ]
     },
     "metadata": {},
     "output_type": "display_data"
    },
    {
     "data": {
      "application/vnd.plotly.v1+json": {
       "data": [
        {
         "marker": {
          "color": "red",
          "size": 10
         },
         "mode": "markers",
         "name": "Agents",
         "x": [
          0.83372617,
          0.0,
          -1.1911123
         ],
         "y": [
          3.108675,
          0.0,
          3.3356307
         ],
         "type": "scatter"
        },
        {
         "mode": "text",
         "showlegend": false,
         "text": [
          "A1"
         ],
         "textposition": "top center",
         "x": [
          0.833726167678833
         ],
         "y": [
          3.108675003051758
         ],
         "type": "scatter"
        },
        {
         "mode": "text",
         "showlegend": false,
         "text": [
          "A2"
         ],
         "textposition": "top center",
         "x": [
          0.0
         ],
         "y": [
          0.0
         ],
         "type": "scatter"
        },
        {
         "mode": "text",
         "showlegend": false,
         "text": [
          "A3"
         ],
         "textposition": "top center",
         "x": [
          -1.1911122798919678
         ],
         "y": [
          3.3356306552886963
         ],
         "type": "scatter"
        },
        {
         "marker": {
          "color": "blue",
          "size": 10
         },
         "mode": "markers",
         "name": "Goals",
         "x": [
          0.53721875,
          0.8589351,
          0.66916823
         ],
         "y": [
          2.0410376,
          4.9621687,
          4.810773
         ],
         "type": "scatter"
        },
        {
         "line": {
          "color": "green"
         },
         "mode": "lines+markers",
         "name": "Velocity 1",
         "x": [
          0.833726167678833,
          0.8287455439567566
         ],
         "y": [
          3.108675003051758,
          2.344636917114258
         ],
         "type": "scatter"
        },
        {
         "line": {
          "color": "purple",
          "dash": "dot"
         },
         "mode": "lines+text",
         "name": "Rotation 1",
         "text": [
          "",
          "-0.07"
         ],
         "textposition": "top center",
         "x": [
          0.833726167678833,
          1.7447624206542969
         ],
         "y": [
          3.108675003051758,
          2.6963489055633545
         ],
         "type": "scatter"
        },
        {
         "line": {
          "color": "orange",
          "dash": "dash"
         },
         "mode": "lines",
         "name": "Agent to Goal 1",
         "x": [
          0.833726167678833,
          0.5372187495231628
         ],
         "y": [
          3.108675003051758,
          2.0410375595092773
         ],
         "type": "scatter"
        },
        {
         "line": {
          "color": "cyan",
          "dash": "solid"
         },
         "mode": "lines",
         "name": "Frame 1 X-direction",
         "x": [
          0.833726167678833,
          1.7447624206542969
         ],
         "y": [
          3.108675003051758,
          2.6963489055633545
         ],
         "type": "scatter"
        },
        {
         "line": {
          "color": "magenta",
          "dash": "solid"
         },
         "mode": "lines",
         "name": "Frame 1 Y-direction",
         "x": [
          0.833726167678833,
          1.2460522651672363
         ],
         "y": [
          3.108675003051758,
          4.019711494445801
         ],
         "type": "scatter"
        },
        {
         "line": {
          "color": "cyan",
          "dash": "solid"
         },
         "mode": "lines",
         "name": "Frame 2 X-direction",
         "x": [
          0.0,
          1.0
         ],
         "y": [
          0.0,
          0.0
         ],
         "type": "scatter"
        },
        {
         "line": {
          "color": "magenta",
          "dash": "solid"
         },
         "mode": "lines",
         "name": "Frame 2 Y-direction",
         "x": [
          0.0,
          0.0
         ],
         "y": [
          0.0,
          1.0
         ],
         "type": "scatter"
        },
        {
         "line": {
          "color": "cyan",
          "dash": "solid"
         },
         "mode": "lines",
         "name": "Frame 3 X-direction",
         "x": [
          -1.1911122798919678,
          -2.1445813179016113
         ],
         "y": [
          3.3356306552886963,
          3.034139394760132
         ],
         "type": "scatter"
        },
        {
         "line": {
          "color": "magenta",
          "dash": "solid"
         },
         "mode": "lines",
         "name": "Frame 3 Y-direction",
         "x": [
          -1.1911122798919678,
          -0.8896209001541138
         ],
         "y": [
          3.3356306552886963,
          2.3821616172790527
         ],
         "type": "scatter"
        },
        {
         "line": {
          "color": "green"
         },
         "mode": "lines+markers",
         "name": "Velocity 2",
         "x": [
          0.0,
          -0.31979885697364807
         ],
         "y": [
          0.0,
          -1.0575083494186401
         ],
         "type": "scatter"
        },
        {
         "line": {
          "color": "purple",
          "dash": "dot"
         },
         "mode": "lines+text",
         "name": "Rotation 2",
         "text": [
          "",
          "0.00"
         ],
         "textposition": "top center",
         "x": [
          0.0,
          1.0
         ],
         "y": [
          0.0,
          0.0
         ],
         "type": "scatter"
        },
        {
         "line": {
          "color": "orange",
          "dash": "dash"
         },
         "mode": "lines",
         "name": "Agent to Goal 2",
         "x": [
          0.0,
          0.8589351177215576
         ],
         "y": [
          0.0,
          4.9621686935424805
         ],
         "type": "scatter"
        },
        {
         "line": {
          "color": "cyan",
          "dash": "solid"
         },
         "mode": "lines",
         "name": "Frame 1 X-direction",
         "x": [
          0.833726167678833,
          1.7447624206542969
         ],
         "y": [
          3.108675003051758,
          2.6963489055633545
         ],
         "type": "scatter"
        },
        {
         "line": {
          "color": "magenta",
          "dash": "solid"
         },
         "mode": "lines",
         "name": "Frame 1 Y-direction",
         "x": [
          0.833726167678833,
          1.2460522651672363
         ],
         "y": [
          3.108675003051758,
          4.019711494445801
         ],
         "type": "scatter"
        },
        {
         "line": {
          "color": "cyan",
          "dash": "solid"
         },
         "mode": "lines",
         "name": "Frame 2 X-direction",
         "x": [
          0.0,
          1.0
         ],
         "y": [
          0.0,
          0.0
         ],
         "type": "scatter"
        },
        {
         "line": {
          "color": "magenta",
          "dash": "solid"
         },
         "mode": "lines",
         "name": "Frame 2 Y-direction",
         "x": [
          0.0,
          0.0
         ],
         "y": [
          0.0,
          1.0
         ],
         "type": "scatter"
        },
        {
         "line": {
          "color": "cyan",
          "dash": "solid"
         },
         "mode": "lines",
         "name": "Frame 3 X-direction",
         "x": [
          -1.1911122798919678,
          -2.1445813179016113
         ],
         "y": [
          3.3356306552886963,
          3.034139394760132
         ],
         "type": "scatter"
        },
        {
         "line": {
          "color": "magenta",
          "dash": "solid"
         },
         "mode": "lines",
         "name": "Frame 3 Y-direction",
         "x": [
          -1.1911122798919678,
          -0.8896209001541138
         ],
         "y": [
          3.3356306552886963,
          2.3821616172790527
         ],
         "type": "scatter"
        },
        {
         "line": {
          "color": "green"
         },
         "mode": "lines+markers",
         "name": "Velocity 3",
         "x": [
          -1.1911122798919678,
          -1.8255972862243652
         ],
         "y": [
          3.3356306552886963,
          2.619494915008545
         ],
         "type": "scatter"
        },
        {
         "line": {
          "color": "purple",
          "dash": "dot"
         },
         "mode": "lines+text",
         "name": "Rotation 3",
         "text": [
          "",
          "0.55"
         ],
         "textposition": "top center",
         "x": [
          -1.1911122798919678,
          -2.1445813179016113
         ],
         "y": [
          3.3356306552886963,
          3.034139394760132
         ],
         "type": "scatter"
        },
        {
         "line": {
          "color": "orange",
          "dash": "dash"
         },
         "mode": "lines",
         "name": "Agent to Goal 3",
         "x": [
          -1.1911122798919678,
          0.66916823387146
         ],
         "y": [
          3.3356306552886963,
          4.810772895812988
         ],
         "type": "scatter"
        },
        {
         "line": {
          "color": "cyan",
          "dash": "solid"
         },
         "mode": "lines",
         "name": "Frame 1 X-direction",
         "x": [
          0.833726167678833,
          1.7447624206542969
         ],
         "y": [
          3.108675003051758,
          2.6963489055633545
         ],
         "type": "scatter"
        },
        {
         "line": {
          "color": "magenta",
          "dash": "solid"
         },
         "mode": "lines",
         "name": "Frame 1 Y-direction",
         "x": [
          0.833726167678833,
          1.2460522651672363
         ],
         "y": [
          3.108675003051758,
          4.019711494445801
         ],
         "type": "scatter"
        },
        {
         "line": {
          "color": "cyan",
          "dash": "solid"
         },
         "mode": "lines",
         "name": "Frame 2 X-direction",
         "x": [
          0.0,
          1.0
         ],
         "y": [
          0.0,
          0.0
         ],
         "type": "scatter"
        },
        {
         "line": {
          "color": "magenta",
          "dash": "solid"
         },
         "mode": "lines",
         "name": "Frame 2 Y-direction",
         "x": [
          0.0,
          0.0
         ],
         "y": [
          0.0,
          1.0
         ],
         "type": "scatter"
        },
        {
         "line": {
          "color": "cyan",
          "dash": "solid"
         },
         "mode": "lines",
         "name": "Frame 3 X-direction",
         "x": [
          -1.1911122798919678,
          -2.1445813179016113
         ],
         "y": [
          3.3356306552886963,
          3.034139394760132
         ],
         "type": "scatter"
        },
        {
         "line": {
          "color": "magenta",
          "dash": "solid"
         },
         "mode": "lines",
         "name": "Frame 3 Y-direction",
         "x": [
          -1.1911122798919678,
          -0.8896209001541138
         ],
         "y": [
          3.3356306552886963,
          2.3821616172790527
         ],
         "type": "scatter"
        }
       ],
       "layout": {
        "template": {
         "data": {
          "histogram2dcontour": [
           {
            "type": "histogram2dcontour",
            "colorbar": {
             "outlinewidth": 0,
             "ticks": ""
            },
            "colorscale": [
             [
              0.0,
              "#0d0887"
             ],
             [
              0.1111111111111111,
              "#46039f"
             ],
             [
              0.2222222222222222,
              "#7201a8"
             ],
             [
              0.3333333333333333,
              "#9c179e"
             ],
             [
              0.4444444444444444,
              "#bd3786"
             ],
             [
              0.5555555555555556,
              "#d8576b"
             ],
             [
              0.6666666666666666,
              "#ed7953"
             ],
             [
              0.7777777777777778,
              "#fb9f3a"
             ],
             [
              0.8888888888888888,
              "#fdca26"
             ],
             [
              1.0,
              "#f0f921"
             ]
            ]
           }
          ],
          "choropleth": [
           {
            "type": "choropleth",
            "colorbar": {
             "outlinewidth": 0,
             "ticks": ""
            }
           }
          ],
          "histogram2d": [
           {
            "type": "histogram2d",
            "colorbar": {
             "outlinewidth": 0,
             "ticks": ""
            },
            "colorscale": [
             [
              0.0,
              "#0d0887"
             ],
             [
              0.1111111111111111,
              "#46039f"
             ],
             [
              0.2222222222222222,
              "#7201a8"
             ],
             [
              0.3333333333333333,
              "#9c179e"
             ],
             [
              0.4444444444444444,
              "#bd3786"
             ],
             [
              0.5555555555555556,
              "#d8576b"
             ],
             [
              0.6666666666666666,
              "#ed7953"
             ],
             [
              0.7777777777777778,
              "#fb9f3a"
             ],
             [
              0.8888888888888888,
              "#fdca26"
             ],
             [
              1.0,
              "#f0f921"
             ]
            ]
           }
          ],
          "heatmap": [
           {
            "type": "heatmap",
            "colorbar": {
             "outlinewidth": 0,
             "ticks": ""
            },
            "colorscale": [
             [
              0.0,
              "#0d0887"
             ],
             [
              0.1111111111111111,
              "#46039f"
             ],
             [
              0.2222222222222222,
              "#7201a8"
             ],
             [
              0.3333333333333333,
              "#9c179e"
             ],
             [
              0.4444444444444444,
              "#bd3786"
             ],
             [
              0.5555555555555556,
              "#d8576b"
             ],
             [
              0.6666666666666666,
              "#ed7953"
             ],
             [
              0.7777777777777778,
              "#fb9f3a"
             ],
             [
              0.8888888888888888,
              "#fdca26"
             ],
             [
              1.0,
              "#f0f921"
             ]
            ]
           }
          ],
          "heatmapgl": [
           {
            "type": "heatmapgl",
            "colorbar": {
             "outlinewidth": 0,
             "ticks": ""
            },
            "colorscale": [
             [
              0.0,
              "#0d0887"
             ],
             [
              0.1111111111111111,
              "#46039f"
             ],
             [
              0.2222222222222222,
              "#7201a8"
             ],
             [
              0.3333333333333333,
              "#9c179e"
             ],
             [
              0.4444444444444444,
              "#bd3786"
             ],
             [
              0.5555555555555556,
              "#d8576b"
             ],
             [
              0.6666666666666666,
              "#ed7953"
             ],
             [
              0.7777777777777778,
              "#fb9f3a"
             ],
             [
              0.8888888888888888,
              "#fdca26"
             ],
             [
              1.0,
              "#f0f921"
             ]
            ]
           }
          ],
          "contourcarpet": [
           {
            "type": "contourcarpet",
            "colorbar": {
             "outlinewidth": 0,
             "ticks": ""
            }
           }
          ],
          "contour": [
           {
            "type": "contour",
            "colorbar": {
             "outlinewidth": 0,
             "ticks": ""
            },
            "colorscale": [
             [
              0.0,
              "#0d0887"
             ],
             [
              0.1111111111111111,
              "#46039f"
             ],
             [
              0.2222222222222222,
              "#7201a8"
             ],
             [
              0.3333333333333333,
              "#9c179e"
             ],
             [
              0.4444444444444444,
              "#bd3786"
             ],
             [
              0.5555555555555556,
              "#d8576b"
             ],
             [
              0.6666666666666666,
              "#ed7953"
             ],
             [
              0.7777777777777778,
              "#fb9f3a"
             ],
             [
              0.8888888888888888,
              "#fdca26"
             ],
             [
              1.0,
              "#f0f921"
             ]
            ]
           }
          ],
          "surface": [
           {
            "type": "surface",
            "colorbar": {
             "outlinewidth": 0,
             "ticks": ""
            },
            "colorscale": [
             [
              0.0,
              "#0d0887"
             ],
             [
              0.1111111111111111,
              "#46039f"
             ],
             [
              0.2222222222222222,
              "#7201a8"
             ],
             [
              0.3333333333333333,
              "#9c179e"
             ],
             [
              0.4444444444444444,
              "#bd3786"
             ],
             [
              0.5555555555555556,
              "#d8576b"
             ],
             [
              0.6666666666666666,
              "#ed7953"
             ],
             [
              0.7777777777777778,
              "#fb9f3a"
             ],
             [
              0.8888888888888888,
              "#fdca26"
             ],
             [
              1.0,
              "#f0f921"
             ]
            ]
           }
          ],
          "mesh3d": [
           {
            "type": "mesh3d",
            "colorbar": {
             "outlinewidth": 0,
             "ticks": ""
            }
           }
          ],
          "scatter": [
           {
            "fillpattern": {
             "fillmode": "overlay",
             "size": 10,
             "solidity": 0.2
            },
            "type": "scatter"
           }
          ],
          "parcoords": [
           {
            "type": "parcoords",
            "line": {
             "colorbar": {
              "outlinewidth": 0,
              "ticks": ""
             }
            }
           }
          ],
          "scatterpolargl": [
           {
            "type": "scatterpolargl",
            "marker": {
             "colorbar": {
              "outlinewidth": 0,
              "ticks": ""
             }
            }
           }
          ],
          "bar": [
           {
            "error_x": {
             "color": "#2a3f5f"
            },
            "error_y": {
             "color": "#2a3f5f"
            },
            "marker": {
             "line": {
              "color": "#E5ECF6",
              "width": 0.5
             },
             "pattern": {
              "fillmode": "overlay",
              "size": 10,
              "solidity": 0.2
             }
            },
            "type": "bar"
           }
          ],
          "scattergeo": [
           {
            "type": "scattergeo",
            "marker": {
             "colorbar": {
              "outlinewidth": 0,
              "ticks": ""
             }
            }
           }
          ],
          "scatterpolar": [
           {
            "type": "scatterpolar",
            "marker": {
             "colorbar": {
              "outlinewidth": 0,
              "ticks": ""
             }
            }
           }
          ],
          "histogram": [
           {
            "marker": {
             "pattern": {
              "fillmode": "overlay",
              "size": 10,
              "solidity": 0.2
             }
            },
            "type": "histogram"
           }
          ],
          "scattergl": [
           {
            "type": "scattergl",
            "marker": {
             "colorbar": {
              "outlinewidth": 0,
              "ticks": ""
             }
            }
           }
          ],
          "scatter3d": [
           {
            "type": "scatter3d",
            "line": {
             "colorbar": {
              "outlinewidth": 0,
              "ticks": ""
             }
            },
            "marker": {
             "colorbar": {
              "outlinewidth": 0,
              "ticks": ""
             }
            }
           }
          ],
          "scattermapbox": [
           {
            "type": "scattermapbox",
            "marker": {
             "colorbar": {
              "outlinewidth": 0,
              "ticks": ""
             }
            }
           }
          ],
          "scatterternary": [
           {
            "type": "scatterternary",
            "marker": {
             "colorbar": {
              "outlinewidth": 0,
              "ticks": ""
             }
            }
           }
          ],
          "scattercarpet": [
           {
            "type": "scattercarpet",
            "marker": {
             "colorbar": {
              "outlinewidth": 0,
              "ticks": ""
             }
            }
           }
          ],
          "carpet": [
           {
            "aaxis": {
             "endlinecolor": "#2a3f5f",
             "gridcolor": "white",
             "linecolor": "white",
             "minorgridcolor": "white",
             "startlinecolor": "#2a3f5f"
            },
            "baxis": {
             "endlinecolor": "#2a3f5f",
             "gridcolor": "white",
             "linecolor": "white",
             "minorgridcolor": "white",
             "startlinecolor": "#2a3f5f"
            },
            "type": "carpet"
           }
          ],
          "table": [
           {
            "cells": {
             "fill": {
              "color": "#EBF0F8"
             },
             "line": {
              "color": "white"
             }
            },
            "header": {
             "fill": {
              "color": "#C8D4E3"
             },
             "line": {
              "color": "white"
             }
            },
            "type": "table"
           }
          ],
          "barpolar": [
           {
            "marker": {
             "line": {
              "color": "#E5ECF6",
              "width": 0.5
             },
             "pattern": {
              "fillmode": "overlay",
              "size": 10,
              "solidity": 0.2
             }
            },
            "type": "barpolar"
           }
          ],
          "pie": [
           {
            "automargin": true,
            "type": "pie"
           }
          ]
         },
         "layout": {
          "autotypenumbers": "strict",
          "colorway": [
           "#636efa",
           "#EF553B",
           "#00cc96",
           "#ab63fa",
           "#FFA15A",
           "#19d3f3",
           "#FF6692",
           "#B6E880",
           "#FF97FF",
           "#FECB52"
          ],
          "font": {
           "color": "#2a3f5f"
          },
          "hovermode": "closest",
          "hoverlabel": {
           "align": "left"
          },
          "paper_bgcolor": "white",
          "plot_bgcolor": "#E5ECF6",
          "polar": {
           "bgcolor": "#E5ECF6",
           "angularaxis": {
            "gridcolor": "white",
            "linecolor": "white",
            "ticks": ""
           },
           "radialaxis": {
            "gridcolor": "white",
            "linecolor": "white",
            "ticks": ""
           }
          },
          "ternary": {
           "bgcolor": "#E5ECF6",
           "aaxis": {
            "gridcolor": "white",
            "linecolor": "white",
            "ticks": ""
           },
           "baxis": {
            "gridcolor": "white",
            "linecolor": "white",
            "ticks": ""
           },
           "caxis": {
            "gridcolor": "white",
            "linecolor": "white",
            "ticks": ""
           }
          },
          "coloraxis": {
           "colorbar": {
            "outlinewidth": 0,
            "ticks": ""
           }
          },
          "colorscale": {
           "sequential": [
            [
             0.0,
             "#0d0887"
            ],
            [
             0.1111111111111111,
             "#46039f"
            ],
            [
             0.2222222222222222,
             "#7201a8"
            ],
            [
             0.3333333333333333,
             "#9c179e"
            ],
            [
             0.4444444444444444,
             "#bd3786"
            ],
            [
             0.5555555555555556,
             "#d8576b"
            ],
            [
             0.6666666666666666,
             "#ed7953"
            ],
            [
             0.7777777777777778,
             "#fb9f3a"
            ],
            [
             0.8888888888888888,
             "#fdca26"
            ],
            [
             1.0,
             "#f0f921"
            ]
           ],
           "sequentialminus": [
            [
             0.0,
             "#0d0887"
            ],
            [
             0.1111111111111111,
             "#46039f"
            ],
            [
             0.2222222222222222,
             "#7201a8"
            ],
            [
             0.3333333333333333,
             "#9c179e"
            ],
            [
             0.4444444444444444,
             "#bd3786"
            ],
            [
             0.5555555555555556,
             "#d8576b"
            ],
            [
             0.6666666666666666,
             "#ed7953"
            ],
            [
             0.7777777777777778,
             "#fb9f3a"
            ],
            [
             0.8888888888888888,
             "#fdca26"
            ],
            [
             1.0,
             "#f0f921"
            ]
           ],
           "diverging": [
            [
             0,
             "#8e0152"
            ],
            [
             0.1,
             "#c51b7d"
            ],
            [
             0.2,
             "#de77ae"
            ],
            [
             0.3,
             "#f1b6da"
            ],
            [
             0.4,
             "#fde0ef"
            ],
            [
             0.5,
             "#f7f7f7"
            ],
            [
             0.6,
             "#e6f5d0"
            ],
            [
             0.7,
             "#b8e186"
            ],
            [
             0.8,
             "#7fbc41"
            ],
            [
             0.9,
             "#4d9221"
            ],
            [
             1,
             "#276419"
            ]
           ]
          },
          "xaxis": {
           "gridcolor": "white",
           "linecolor": "white",
           "ticks": "",
           "title": {
            "standoff": 15
           },
           "zerolinecolor": "white",
           "automargin": true,
           "zerolinewidth": 2
          },
          "yaxis": {
           "gridcolor": "white",
           "linecolor": "white",
           "ticks": "",
           "title": {
            "standoff": 15
           },
           "zerolinecolor": "white",
           "automargin": true,
           "zerolinewidth": 2
          },
          "scene": {
           "xaxis": {
            "backgroundcolor": "#E5ECF6",
            "gridcolor": "white",
            "linecolor": "white",
            "showbackground": true,
            "ticks": "",
            "zerolinecolor": "white",
            "gridwidth": 2
           },
           "yaxis": {
            "backgroundcolor": "#E5ECF6",
            "gridcolor": "white",
            "linecolor": "white",
            "showbackground": true,
            "ticks": "",
            "zerolinecolor": "white",
            "gridwidth": 2
           },
           "zaxis": {
            "backgroundcolor": "#E5ECF6",
            "gridcolor": "white",
            "linecolor": "white",
            "showbackground": true,
            "ticks": "",
            "zerolinecolor": "white",
            "gridwidth": 2
           }
          },
          "shapedefaults": {
           "line": {
            "color": "#2a3f5f"
           }
          },
          "annotationdefaults": {
           "arrowcolor": "#2a3f5f",
           "arrowhead": 0,
           "arrowwidth": 1
          },
          "geo": {
           "bgcolor": "white",
           "landcolor": "#E5ECF6",
           "subunitcolor": "white",
           "showland": true,
           "showlakes": true,
           "lakecolor": "white"
          },
          "title": {
           "x": 0.05
          },
          "mapbox": {
           "style": "light"
          }
         }
        },
        "xaxis": {
         "title": {
          "text": "X"
         },
         "scaleanchor": "y",
         "scaleratio": 1,
         "range": [
          -3,
          3
         ]
        },
        "yaxis": {
         "title": {
          "text": "Y"
         },
         "range": [
          -3,
          3
         ]
        },
        "title": {
         "text": "Goals, Agents, Velocity, Rotations, Frames and Lines to Goals"
        },
        "legend": {
         "title": {
          "text": "Legend"
         }
        },
        "showlegend": true
       },
       "config": {
        "plotlyServerURL": "https://plot.ly"
       }
      },
      "text/html": [
       "<div>                            <div id=\"397564ec-b658-49c6-af29-2556c1fdaa6e\" class=\"plotly-graph-div\" style=\"height:525px; width:100%;\"></div>            <script type=\"text/javascript\">                require([\"plotly\"], function(Plotly) {                    window.PLOTLYENV=window.PLOTLYENV || {};                                    if (document.getElementById(\"397564ec-b658-49c6-af29-2556c1fdaa6e\")) {                    Plotly.newPlot(                        \"397564ec-b658-49c6-af29-2556c1fdaa6e\",                        [{\"marker\":{\"color\":\"red\",\"size\":10},\"mode\":\"markers\",\"name\":\"Agents\",\"x\":[0.83372617,0.0,-1.1911123],\"y\":[3.108675,0.0,3.3356307],\"type\":\"scatter\"},{\"mode\":\"text\",\"showlegend\":false,\"text\":[\"A1\"],\"textposition\":\"top center\",\"x\":[0.833726167678833],\"y\":[3.108675003051758],\"type\":\"scatter\"},{\"mode\":\"text\",\"showlegend\":false,\"text\":[\"A2\"],\"textposition\":\"top center\",\"x\":[0.0],\"y\":[0.0],\"type\":\"scatter\"},{\"mode\":\"text\",\"showlegend\":false,\"text\":[\"A3\"],\"textposition\":\"top center\",\"x\":[-1.1911122798919678],\"y\":[3.3356306552886963],\"type\":\"scatter\"},{\"marker\":{\"color\":\"blue\",\"size\":10},\"mode\":\"markers\",\"name\":\"Goals\",\"x\":[0.53721875,0.8589351,0.66916823],\"y\":[2.0410376,4.9621687,4.810773],\"type\":\"scatter\"},{\"line\":{\"color\":\"green\"},\"mode\":\"lines+markers\",\"name\":\"Velocity 1\",\"x\":[0.833726167678833,0.8287455439567566],\"y\":[3.108675003051758,2.344636917114258],\"type\":\"scatter\"},{\"line\":{\"color\":\"purple\",\"dash\":\"dot\"},\"mode\":\"lines+text\",\"name\":\"Rotation 1\",\"text\":[\"\",\"-0.07\"],\"textposition\":\"top center\",\"x\":[0.833726167678833,1.7447624206542969],\"y\":[3.108675003051758,2.6963489055633545],\"type\":\"scatter\"},{\"line\":{\"color\":\"orange\",\"dash\":\"dash\"},\"mode\":\"lines\",\"name\":\"Agent to Goal 1\",\"x\":[0.833726167678833,0.5372187495231628],\"y\":[3.108675003051758,2.0410375595092773],\"type\":\"scatter\"},{\"line\":{\"color\":\"cyan\",\"dash\":\"solid\"},\"mode\":\"lines\",\"name\":\"Frame 1 X-direction\",\"x\":[0.833726167678833,1.7447624206542969],\"y\":[3.108675003051758,2.6963489055633545],\"type\":\"scatter\"},{\"line\":{\"color\":\"magenta\",\"dash\":\"solid\"},\"mode\":\"lines\",\"name\":\"Frame 1 Y-direction\",\"x\":[0.833726167678833,1.2460522651672363],\"y\":[3.108675003051758,4.019711494445801],\"type\":\"scatter\"},{\"line\":{\"color\":\"cyan\",\"dash\":\"solid\"},\"mode\":\"lines\",\"name\":\"Frame 2 X-direction\",\"x\":[0.0,1.0],\"y\":[0.0,0.0],\"type\":\"scatter\"},{\"line\":{\"color\":\"magenta\",\"dash\":\"solid\"},\"mode\":\"lines\",\"name\":\"Frame 2 Y-direction\",\"x\":[0.0,0.0],\"y\":[0.0,1.0],\"type\":\"scatter\"},{\"line\":{\"color\":\"cyan\",\"dash\":\"solid\"},\"mode\":\"lines\",\"name\":\"Frame 3 X-direction\",\"x\":[-1.1911122798919678,-2.1445813179016113],\"y\":[3.3356306552886963,3.034139394760132],\"type\":\"scatter\"},{\"line\":{\"color\":\"magenta\",\"dash\":\"solid\"},\"mode\":\"lines\",\"name\":\"Frame 3 Y-direction\",\"x\":[-1.1911122798919678,-0.8896209001541138],\"y\":[3.3356306552886963,2.3821616172790527],\"type\":\"scatter\"},{\"line\":{\"color\":\"green\"},\"mode\":\"lines+markers\",\"name\":\"Velocity 2\",\"x\":[0.0,-0.31979885697364807],\"y\":[0.0,-1.0575083494186401],\"type\":\"scatter\"},{\"line\":{\"color\":\"purple\",\"dash\":\"dot\"},\"mode\":\"lines+text\",\"name\":\"Rotation 2\",\"text\":[\"\",\"0.00\"],\"textposition\":\"top center\",\"x\":[0.0,1.0],\"y\":[0.0,0.0],\"type\":\"scatter\"},{\"line\":{\"color\":\"orange\",\"dash\":\"dash\"},\"mode\":\"lines\",\"name\":\"Agent to Goal 2\",\"x\":[0.0,0.8589351177215576],\"y\":[0.0,4.9621686935424805],\"type\":\"scatter\"},{\"line\":{\"color\":\"cyan\",\"dash\":\"solid\"},\"mode\":\"lines\",\"name\":\"Frame 1 X-direction\",\"x\":[0.833726167678833,1.7447624206542969],\"y\":[3.108675003051758,2.6963489055633545],\"type\":\"scatter\"},{\"line\":{\"color\":\"magenta\",\"dash\":\"solid\"},\"mode\":\"lines\",\"name\":\"Frame 1 Y-direction\",\"x\":[0.833726167678833,1.2460522651672363],\"y\":[3.108675003051758,4.019711494445801],\"type\":\"scatter\"},{\"line\":{\"color\":\"cyan\",\"dash\":\"solid\"},\"mode\":\"lines\",\"name\":\"Frame 2 X-direction\",\"x\":[0.0,1.0],\"y\":[0.0,0.0],\"type\":\"scatter\"},{\"line\":{\"color\":\"magenta\",\"dash\":\"solid\"},\"mode\":\"lines\",\"name\":\"Frame 2 Y-direction\",\"x\":[0.0,0.0],\"y\":[0.0,1.0],\"type\":\"scatter\"},{\"line\":{\"color\":\"cyan\",\"dash\":\"solid\"},\"mode\":\"lines\",\"name\":\"Frame 3 X-direction\",\"x\":[-1.1911122798919678,-2.1445813179016113],\"y\":[3.3356306552886963,3.034139394760132],\"type\":\"scatter\"},{\"line\":{\"color\":\"magenta\",\"dash\":\"solid\"},\"mode\":\"lines\",\"name\":\"Frame 3 Y-direction\",\"x\":[-1.1911122798919678,-0.8896209001541138],\"y\":[3.3356306552886963,2.3821616172790527],\"type\":\"scatter\"},{\"line\":{\"color\":\"green\"},\"mode\":\"lines+markers\",\"name\":\"Velocity 3\",\"x\":[-1.1911122798919678,-1.8255972862243652],\"y\":[3.3356306552886963,2.619494915008545],\"type\":\"scatter\"},{\"line\":{\"color\":\"purple\",\"dash\":\"dot\"},\"mode\":\"lines+text\",\"name\":\"Rotation 3\",\"text\":[\"\",\"0.55\"],\"textposition\":\"top center\",\"x\":[-1.1911122798919678,-2.1445813179016113],\"y\":[3.3356306552886963,3.034139394760132],\"type\":\"scatter\"},{\"line\":{\"color\":\"orange\",\"dash\":\"dash\"},\"mode\":\"lines\",\"name\":\"Agent to Goal 3\",\"x\":[-1.1911122798919678,0.66916823387146],\"y\":[3.3356306552886963,4.810772895812988],\"type\":\"scatter\"},{\"line\":{\"color\":\"cyan\",\"dash\":\"solid\"},\"mode\":\"lines\",\"name\":\"Frame 1 X-direction\",\"x\":[0.833726167678833,1.7447624206542969],\"y\":[3.108675003051758,2.6963489055633545],\"type\":\"scatter\"},{\"line\":{\"color\":\"magenta\",\"dash\":\"solid\"},\"mode\":\"lines\",\"name\":\"Frame 1 Y-direction\",\"x\":[0.833726167678833,1.2460522651672363],\"y\":[3.108675003051758,4.019711494445801],\"type\":\"scatter\"},{\"line\":{\"color\":\"cyan\",\"dash\":\"solid\"},\"mode\":\"lines\",\"name\":\"Frame 2 X-direction\",\"x\":[0.0,1.0],\"y\":[0.0,0.0],\"type\":\"scatter\"},{\"line\":{\"color\":\"magenta\",\"dash\":\"solid\"},\"mode\":\"lines\",\"name\":\"Frame 2 Y-direction\",\"x\":[0.0,0.0],\"y\":[0.0,1.0],\"type\":\"scatter\"},{\"line\":{\"color\":\"cyan\",\"dash\":\"solid\"},\"mode\":\"lines\",\"name\":\"Frame 3 X-direction\",\"x\":[-1.1911122798919678,-2.1445813179016113],\"y\":[3.3356306552886963,3.034139394760132],\"type\":\"scatter\"},{\"line\":{\"color\":\"magenta\",\"dash\":\"solid\"},\"mode\":\"lines\",\"name\":\"Frame 3 Y-direction\",\"x\":[-1.1911122798919678,-0.8896209001541138],\"y\":[3.3356306552886963,2.3821616172790527],\"type\":\"scatter\"}],                        {\"template\":{\"data\":{\"histogram2dcontour\":[{\"type\":\"histogram2dcontour\",\"colorbar\":{\"outlinewidth\":0,\"ticks\":\"\"},\"colorscale\":[[0.0,\"#0d0887\"],[0.1111111111111111,\"#46039f\"],[0.2222222222222222,\"#7201a8\"],[0.3333333333333333,\"#9c179e\"],[0.4444444444444444,\"#bd3786\"],[0.5555555555555556,\"#d8576b\"],[0.6666666666666666,\"#ed7953\"],[0.7777777777777778,\"#fb9f3a\"],[0.8888888888888888,\"#fdca26\"],[1.0,\"#f0f921\"]]}],\"choropleth\":[{\"type\":\"choropleth\",\"colorbar\":{\"outlinewidth\":0,\"ticks\":\"\"}}],\"histogram2d\":[{\"type\":\"histogram2d\",\"colorbar\":{\"outlinewidth\":0,\"ticks\":\"\"},\"colorscale\":[[0.0,\"#0d0887\"],[0.1111111111111111,\"#46039f\"],[0.2222222222222222,\"#7201a8\"],[0.3333333333333333,\"#9c179e\"],[0.4444444444444444,\"#bd3786\"],[0.5555555555555556,\"#d8576b\"],[0.6666666666666666,\"#ed7953\"],[0.7777777777777778,\"#fb9f3a\"],[0.8888888888888888,\"#fdca26\"],[1.0,\"#f0f921\"]]}],\"heatmap\":[{\"type\":\"heatmap\",\"colorbar\":{\"outlinewidth\":0,\"ticks\":\"\"},\"colorscale\":[[0.0,\"#0d0887\"],[0.1111111111111111,\"#46039f\"],[0.2222222222222222,\"#7201a8\"],[0.3333333333333333,\"#9c179e\"],[0.4444444444444444,\"#bd3786\"],[0.5555555555555556,\"#d8576b\"],[0.6666666666666666,\"#ed7953\"],[0.7777777777777778,\"#fb9f3a\"],[0.8888888888888888,\"#fdca26\"],[1.0,\"#f0f921\"]]}],\"heatmapgl\":[{\"type\":\"heatmapgl\",\"colorbar\":{\"outlinewidth\":0,\"ticks\":\"\"},\"colorscale\":[[0.0,\"#0d0887\"],[0.1111111111111111,\"#46039f\"],[0.2222222222222222,\"#7201a8\"],[0.3333333333333333,\"#9c179e\"],[0.4444444444444444,\"#bd3786\"],[0.5555555555555556,\"#d8576b\"],[0.6666666666666666,\"#ed7953\"],[0.7777777777777778,\"#fb9f3a\"],[0.8888888888888888,\"#fdca26\"],[1.0,\"#f0f921\"]]}],\"contourcarpet\":[{\"type\":\"contourcarpet\",\"colorbar\":{\"outlinewidth\":0,\"ticks\":\"\"}}],\"contour\":[{\"type\":\"contour\",\"colorbar\":{\"outlinewidth\":0,\"ticks\":\"\"},\"colorscale\":[[0.0,\"#0d0887\"],[0.1111111111111111,\"#46039f\"],[0.2222222222222222,\"#7201a8\"],[0.3333333333333333,\"#9c179e\"],[0.4444444444444444,\"#bd3786\"],[0.5555555555555556,\"#d8576b\"],[0.6666666666666666,\"#ed7953\"],[0.7777777777777778,\"#fb9f3a\"],[0.8888888888888888,\"#fdca26\"],[1.0,\"#f0f921\"]]}],\"surface\":[{\"type\":\"surface\",\"colorbar\":{\"outlinewidth\":0,\"ticks\":\"\"},\"colorscale\":[[0.0,\"#0d0887\"],[0.1111111111111111,\"#46039f\"],[0.2222222222222222,\"#7201a8\"],[0.3333333333333333,\"#9c179e\"],[0.4444444444444444,\"#bd3786\"],[0.5555555555555556,\"#d8576b\"],[0.6666666666666666,\"#ed7953\"],[0.7777777777777778,\"#fb9f3a\"],[0.8888888888888888,\"#fdca26\"],[1.0,\"#f0f921\"]]}],\"mesh3d\":[{\"type\":\"mesh3d\",\"colorbar\":{\"outlinewidth\":0,\"ticks\":\"\"}}],\"scatter\":[{\"fillpattern\":{\"fillmode\":\"overlay\",\"size\":10,\"solidity\":0.2},\"type\":\"scatter\"}],\"parcoords\":[{\"type\":\"parcoords\",\"line\":{\"colorbar\":{\"outlinewidth\":0,\"ticks\":\"\"}}}],\"scatterpolargl\":[{\"type\":\"scatterpolargl\",\"marker\":{\"colorbar\":{\"outlinewidth\":0,\"ticks\":\"\"}}}],\"bar\":[{\"error_x\":{\"color\":\"#2a3f5f\"},\"error_y\":{\"color\":\"#2a3f5f\"},\"marker\":{\"line\":{\"color\":\"#E5ECF6\",\"width\":0.5},\"pattern\":{\"fillmode\":\"overlay\",\"size\":10,\"solidity\":0.2}},\"type\":\"bar\"}],\"scattergeo\":[{\"type\":\"scattergeo\",\"marker\":{\"colorbar\":{\"outlinewidth\":0,\"ticks\":\"\"}}}],\"scatterpolar\":[{\"type\":\"scatterpolar\",\"marker\":{\"colorbar\":{\"outlinewidth\":0,\"ticks\":\"\"}}}],\"histogram\":[{\"marker\":{\"pattern\":{\"fillmode\":\"overlay\",\"size\":10,\"solidity\":0.2}},\"type\":\"histogram\"}],\"scattergl\":[{\"type\":\"scattergl\",\"marker\":{\"colorbar\":{\"outlinewidth\":0,\"ticks\":\"\"}}}],\"scatter3d\":[{\"type\":\"scatter3d\",\"line\":{\"colorbar\":{\"outlinewidth\":0,\"ticks\":\"\"}},\"marker\":{\"colorbar\":{\"outlinewidth\":0,\"ticks\":\"\"}}}],\"scattermapbox\":[{\"type\":\"scattermapbox\",\"marker\":{\"colorbar\":{\"outlinewidth\":0,\"ticks\":\"\"}}}],\"scatterternary\":[{\"type\":\"scatterternary\",\"marker\":{\"colorbar\":{\"outlinewidth\":0,\"ticks\":\"\"}}}],\"scattercarpet\":[{\"type\":\"scattercarpet\",\"marker\":{\"colorbar\":{\"outlinewidth\":0,\"ticks\":\"\"}}}],\"carpet\":[{\"aaxis\":{\"endlinecolor\":\"#2a3f5f\",\"gridcolor\":\"white\",\"linecolor\":\"white\",\"minorgridcolor\":\"white\",\"startlinecolor\":\"#2a3f5f\"},\"baxis\":{\"endlinecolor\":\"#2a3f5f\",\"gridcolor\":\"white\",\"linecolor\":\"white\",\"minorgridcolor\":\"white\",\"startlinecolor\":\"#2a3f5f\"},\"type\":\"carpet\"}],\"table\":[{\"cells\":{\"fill\":{\"color\":\"#EBF0F8\"},\"line\":{\"color\":\"white\"}},\"header\":{\"fill\":{\"color\":\"#C8D4E3\"},\"line\":{\"color\":\"white\"}},\"type\":\"table\"}],\"barpolar\":[{\"marker\":{\"line\":{\"color\":\"#E5ECF6\",\"width\":0.5},\"pattern\":{\"fillmode\":\"overlay\",\"size\":10,\"solidity\":0.2}},\"type\":\"barpolar\"}],\"pie\":[{\"automargin\":true,\"type\":\"pie\"}]},\"layout\":{\"autotypenumbers\":\"strict\",\"colorway\":[\"#636efa\",\"#EF553B\",\"#00cc96\",\"#ab63fa\",\"#FFA15A\",\"#19d3f3\",\"#FF6692\",\"#B6E880\",\"#FF97FF\",\"#FECB52\"],\"font\":{\"color\":\"#2a3f5f\"},\"hovermode\":\"closest\",\"hoverlabel\":{\"align\":\"left\"},\"paper_bgcolor\":\"white\",\"plot_bgcolor\":\"#E5ECF6\",\"polar\":{\"bgcolor\":\"#E5ECF6\",\"angularaxis\":{\"gridcolor\":\"white\",\"linecolor\":\"white\",\"ticks\":\"\"},\"radialaxis\":{\"gridcolor\":\"white\",\"linecolor\":\"white\",\"ticks\":\"\"}},\"ternary\":{\"bgcolor\":\"#E5ECF6\",\"aaxis\":{\"gridcolor\":\"white\",\"linecolor\":\"white\",\"ticks\":\"\"},\"baxis\":{\"gridcolor\":\"white\",\"linecolor\":\"white\",\"ticks\":\"\"},\"caxis\":{\"gridcolor\":\"white\",\"linecolor\":\"white\",\"ticks\":\"\"}},\"coloraxis\":{\"colorbar\":{\"outlinewidth\":0,\"ticks\":\"\"}},\"colorscale\":{\"sequential\":[[0.0,\"#0d0887\"],[0.1111111111111111,\"#46039f\"],[0.2222222222222222,\"#7201a8\"],[0.3333333333333333,\"#9c179e\"],[0.4444444444444444,\"#bd3786\"],[0.5555555555555556,\"#d8576b\"],[0.6666666666666666,\"#ed7953\"],[0.7777777777777778,\"#fb9f3a\"],[0.8888888888888888,\"#fdca26\"],[1.0,\"#f0f921\"]],\"sequentialminus\":[[0.0,\"#0d0887\"],[0.1111111111111111,\"#46039f\"],[0.2222222222222222,\"#7201a8\"],[0.3333333333333333,\"#9c179e\"],[0.4444444444444444,\"#bd3786\"],[0.5555555555555556,\"#d8576b\"],[0.6666666666666666,\"#ed7953\"],[0.7777777777777778,\"#fb9f3a\"],[0.8888888888888888,\"#fdca26\"],[1.0,\"#f0f921\"]],\"diverging\":[[0,\"#8e0152\"],[0.1,\"#c51b7d\"],[0.2,\"#de77ae\"],[0.3,\"#f1b6da\"],[0.4,\"#fde0ef\"],[0.5,\"#f7f7f7\"],[0.6,\"#e6f5d0\"],[0.7,\"#b8e186\"],[0.8,\"#7fbc41\"],[0.9,\"#4d9221\"],[1,\"#276419\"]]},\"xaxis\":{\"gridcolor\":\"white\",\"linecolor\":\"white\",\"ticks\":\"\",\"title\":{\"standoff\":15},\"zerolinecolor\":\"white\",\"automargin\":true,\"zerolinewidth\":2},\"yaxis\":{\"gridcolor\":\"white\",\"linecolor\":\"white\",\"ticks\":\"\",\"title\":{\"standoff\":15},\"zerolinecolor\":\"white\",\"automargin\":true,\"zerolinewidth\":2},\"scene\":{\"xaxis\":{\"backgroundcolor\":\"#E5ECF6\",\"gridcolor\":\"white\",\"linecolor\":\"white\",\"showbackground\":true,\"ticks\":\"\",\"zerolinecolor\":\"white\",\"gridwidth\":2},\"yaxis\":{\"backgroundcolor\":\"#E5ECF6\",\"gridcolor\":\"white\",\"linecolor\":\"white\",\"showbackground\":true,\"ticks\":\"\",\"zerolinecolor\":\"white\",\"gridwidth\":2},\"zaxis\":{\"backgroundcolor\":\"#E5ECF6\",\"gridcolor\":\"white\",\"linecolor\":\"white\",\"showbackground\":true,\"ticks\":\"\",\"zerolinecolor\":\"white\",\"gridwidth\":2}},\"shapedefaults\":{\"line\":{\"color\":\"#2a3f5f\"}},\"annotationdefaults\":{\"arrowcolor\":\"#2a3f5f\",\"arrowhead\":0,\"arrowwidth\":1},\"geo\":{\"bgcolor\":\"white\",\"landcolor\":\"#E5ECF6\",\"subunitcolor\":\"white\",\"showland\":true,\"showlakes\":true,\"lakecolor\":\"white\"},\"title\":{\"x\":0.05},\"mapbox\":{\"style\":\"light\"}}},\"xaxis\":{\"title\":{\"text\":\"X\"},\"scaleanchor\":\"y\",\"scaleratio\":1,\"range\":[-3,3]},\"yaxis\":{\"title\":{\"text\":\"Y\"},\"range\":[-3,3]},\"title\":{\"text\":\"Goals, Agents, Velocity, Rotations, Frames and Lines to Goals\"},\"legend\":{\"title\":{\"text\":\"Legend\"}},\"showlegend\":true},                        {\"responsive\": true}                    ).then(function(){\n",
       "                            \n",
       "var gd = document.getElementById('397564ec-b658-49c6-af29-2556c1fdaa6e');\n",
       "var x = new MutationObserver(function (mutations, observer) {{\n",
       "        var display = window.getComputedStyle(gd).display;\n",
       "        if (!display || display === 'none') {{\n",
       "            console.log([gd, 'removed!']);\n",
       "            Plotly.purge(gd);\n",
       "            observer.disconnect();\n",
       "        }}\n",
       "}});\n",
       "\n",
       "// Listen for the removal of the full notebook cells\n",
       "var notebookContainer = gd.closest('#notebook-container');\n",
       "if (notebookContainer) {{\n",
       "    x.observe(notebookContainer, {childList: true});\n",
       "}}\n",
       "\n",
       "// Listen for the clearing of the current output cell\n",
       "var outputEl = gd.closest('.output');\n",
       "if (outputEl) {{\n",
       "    x.observe(outputEl, {childList: true});\n",
       "}}\n",
       "\n",
       "                        })                };                });            </script>        </div>"
      ]
     },
     "metadata": {},
     "output_type": "display_data"
    }
   ],
   "execution_count": 40
  },
  {
   "metadata": {},
   "cell_type": "code",
   "outputs": [],
   "execution_count": null,
   "source": "",
   "id": "1756c1ba591c8686"
  }
 ],
 "metadata": {
  "kernelspec": {
   "display_name": "Python 3",
   "language": "python",
   "name": "python3"
  },
  "language_info": {
   "codemirror_mode": {
    "name": "ipython",
    "version": 2
   },
   "file_extension": ".py",
   "mimetype": "text/x-python",
   "name": "python",
   "nbconvert_exporter": "python",
   "pygments_lexer": "ipython2",
   "version": "2.7.6"
  }
 },
 "nbformat": 4,
 "nbformat_minor": 5
}
